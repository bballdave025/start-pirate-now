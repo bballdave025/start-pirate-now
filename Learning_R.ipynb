{
  "nbformat": 4,
  "nbformat_minor": 0,
  "metadata": {
    "colab": {
      "provenance": [],
      "authorship_tag": "ABX9TyNna2ru0tcwK61aV4zCSGZv",
      "include_colab_link": true
    },
    "kernelspec": {
      "name": "ir",
      "display_name": "R"
    },
    "language_info": {
      "name": "R"
    }
  },
  "cells": [
    {
      "cell_type": "markdown",
      "metadata": {
        "id": "view-in-github",
        "colab_type": "text"
      },
      "source": [
        "<a href=\"https://colab.research.google.com/github/bballdave025/start-pirate-now/blob/main/Learning_R.ipynb\" target=\"_parent\"><img src=\"https://colab.research.google.com/assets/colab-badge.svg\" alt=\"Open In Colab\"/></a>"
      ]
    },
    {
      "cell_type": "markdown",
      "source": [
        "# Learning R"
      ],
      "metadata": {
        "id": "ybr_GEZT86qK"
      }
    },
    {
      "cell_type": "markdown",
      "source": [
        "Learning arrghh."
      ],
      "metadata": {
        "id": "xQuIc6SJ9G6z"
      }
    },
    {
      "cell_type": "markdown",
      "source": [
        "I'm looking all over online for some basic R learning.\n",
        "I'll start by doing the coding in a Jupyter notebook,\n",
        "but will move on to R Studio (or however it's called).\n",
        "I'm planning to eventually move on to a LinkedIn\n",
        "course or something on Udemy, Coursera, EdX, etc.\n",
        "\n",
        "I'm glad to have an excuse to learn R and get the\n",
        "statistical side of things. There's a job or two that\n",
        "interest me for which knowing R or Python is\n",
        "recommended. I know Python pretty well, and I'll now\n",
        "get some basics of R.\n",
        "\n",
        "The name of the repo, start-pirate-now, comes from my\n",
        "wonderful joke about the <b>R</b> programming\n",
        "language and the <b>arrghh</b> of pirates. Yes, I'm\n",
        "a dad."
      ],
      "metadata": {
        "id": "0hTll1fe9KnB"
      }
    },
    {
      "cell_type": "markdown",
      "source": [
        "## Basic Basics"
      ],
      "metadata": {
        "id": "4OH0wGMx9TJc"
      }
    },
    {
      "cell_type": "markdown",
      "source": [
        "### Comment and Calculator"
      ],
      "metadata": {
        "id": "5BoZlgMh9bgZ"
      }
    },
    {
      "cell_type": "code",
      "source": [
        "#  A hash starts a comment. I will now add some numbers\n",
        "7 + 4"
      ],
      "metadata": {
        "colab": {
          "base_uri": "https://localhost:8080/",
          "height": 34
        },
        "id": "gOcWlaoZ9YKI",
        "outputId": "f75f03bd-09ec-4e0e-92a2-c8d1a47b7334"
      },
      "execution_count": null,
      "outputs": [
        {
          "output_type": "display_data",
          "data": {
            "text/html": [
              "11"
            ],
            "text/markdown": "11",
            "text/latex": "11",
            "text/plain": [
              "[1] 11"
            ]
          },
          "metadata": {}
        }
      ]
    },
    {
      "cell_type": "markdown",
      "source": [
        "### Data Modes (Types) and Data Structures"
      ],
      "metadata": {
        "id": "RZgkyUOV9v3l"
      }
    },
    {
      "cell_type": "markdown",
      "source": [
        "I think I've understood correctly, from looking at these\n",
        "tutorials, that everything seems to start with the\n",
        "`c()` function, which I think it concatenation.\n",
        "Concatenate numbers into a vector or matrix or whatever.\n",
        "\n",
        "`class()` will tell you the data mode or structure of its\n",
        "argument."
      ],
      "metadata": {
        "id": "watW09Fr97wD"
      }
    },
    {
      "cell_type": "code",
      "source": [
        "class(5)"
      ],
      "metadata": {
        "colab": {
          "base_uri": "https://localhost:8080/",
          "height": 34
        },
        "id": "-BcR_R5-9shh",
        "outputId": "27cc0f42-9367-4c99-878a-aa4d9c0187dc"
      },
      "execution_count": null,
      "outputs": [
        {
          "output_type": "display_data",
          "data": {
            "text/html": [
              "'numeric'"
            ],
            "text/markdown": "'numeric'",
            "text/latex": "'numeric'",
            "text/plain": [
              "[1] \"numeric\""
            ]
          },
          "metadata": {}
        }
      ]
    },
    {
      "cell_type": "code",
      "source": [
        "c(5, 1.7, 3, 8, 2)"
      ],
      "metadata": {
        "colab": {
          "base_uri": "https://localhost:8080/",
          "height": 34
        },
        "id": "cxhuv1rT-MDH",
        "outputId": "8d2f8b4c-3206-40ab-eb6b-ac9edca57907"
      },
      "execution_count": null,
      "outputs": [
        {
          "output_type": "display_data",
          "data": {
            "text/html": [
              "<style>\n",
              ".list-inline {list-style: none; margin:0; padding: 0}\n",
              ".list-inline>li {display: inline-block}\n",
              ".list-inline>li:not(:last-child)::after {content: \"\\00b7\"; padding: 0 .5ex}\n",
              "</style>\n",
              "<ol class=list-inline><li>5</li><li>1.7</li><li>3</li><li>8</li><li>2</li></ol>\n"
            ],
            "text/markdown": "1. 5\n2. 1.7\n3. 3\n4. 8\n5. 2\n\n\n",
            "text/latex": "\\begin{enumerate*}\n\\item 5\n\\item 1.7\n\\item 3\n\\item 8\n\\item 2\n\\end{enumerate*}\n",
            "text/plain": [
              "[1] 5.0 1.7 3.0 8.0 2.0"
            ]
          },
          "metadata": {}
        }
      ]
    },
    {
      "cell_type": "code",
      "source": [
        "class(c(5, 1.7, 3, 8, 2))  # a vector"
      ],
      "metadata": {
        "colab": {
          "base_uri": "https://localhost:8080/",
          "height": 34
        },
        "id": "3MaXmWjR-b-t",
        "outputId": "4b55001e-fd74-4faa-c5c4-f9f86b66d197"
      },
      "execution_count": null,
      "outputs": [
        {
          "output_type": "display_data",
          "data": {
            "text/html": [
              "'numeric'"
            ],
            "text/markdown": "'numeric'",
            "text/latex": "'numeric'",
            "text/plain": [
              "[1] \"numeric\""
            ]
          },
          "metadata": {}
        }
      ]
    },
    {
      "cell_type": "code",
      "source": [
        "class(matrix(c(1, 3, 2, 4, 5, 6), nrow=2, ncol=3))  # a matrix"
      ],
      "metadata": {
        "colab": {
          "base_uri": "https://localhost:8080/",
          "height": 34
        },
        "id": "WGrHmyF7-hL0",
        "outputId": "f6eafa21-e55f-48f2-ac4d-4fe22e4ef50b"
      },
      "execution_count": null,
      "outputs": [
        {
          "output_type": "display_data",
          "data": {
            "text/html": [
              "<style>\n",
              ".list-inline {list-style: none; margin:0; padding: 0}\n",
              ".list-inline>li {display: inline-block}\n",
              ".list-inline>li:not(:last-child)::after {content: \"\\00b7\"; padding: 0 .5ex}\n",
              "</style>\n",
              "<ol class=list-inline><li>'matrix'</li><li>'array'</li></ol>\n"
            ],
            "text/markdown": "1. 'matrix'\n2. 'array'\n\n\n",
            "text/latex": "\\begin{enumerate*}\n\\item 'matrix'\n\\item 'array'\n\\end{enumerate*}\n",
            "text/plain": [
              "[1] \"matrix\" \"array\" "
            ]
          },
          "metadata": {}
        }
      ]
    },
    {
      "cell_type": "code",
      "source": [
        "\"This is a string!\""
      ],
      "metadata": {
        "colab": {
          "base_uri": "https://localhost:8080/",
          "height": 34
        },
        "id": "eRfMHT8U_Acd",
        "outputId": "88bda6fc-24a5-4ea4-fb85-1c9e13419159"
      },
      "execution_count": null,
      "outputs": [
        {
          "output_type": "display_data",
          "data": {
            "text/html": [
              "'This is a string!'"
            ],
            "text/markdown": "'This is a string!'",
            "text/latex": "'This is a string!'",
            "text/plain": [
              "[1] \"This is a string!\""
            ]
          },
          "metadata": {}
        }
      ]
    },
    {
      "cell_type": "code",
      "source": [
        "class(\"This is a string\")"
      ],
      "metadata": {
        "colab": {
          "base_uri": "https://localhost:8080/",
          "height": 34
        },
        "id": "VysiwNuQ_cX6",
        "outputId": "86c95992-8ecf-4c8c-963f-4aae7767aa22"
      },
      "execution_count": null,
      "outputs": [
        {
          "output_type": "display_data",
          "data": {
            "text/html": [
              "'character'"
            ],
            "text/markdown": "'character'",
            "text/latex": "'character'",
            "text/plain": [
              "[1] \"character\""
            ]
          },
          "metadata": {}
        }
      ]
    },
    {
      "cell_type": "markdown",
      "source": [
        "### Data Frame"
      ],
      "metadata": {
        "id": "KSe7l3Es_uWM"
      }
    },
    {
      "cell_type": "code",
      "source": [
        "data.frame(c(\"This is a string\",\n",
        "             \"This is another string\"),\n",
        "             matrix(c(1:6), nrow=2, ncol=3))"
      ],
      "metadata": {
        "colab": {
          "base_uri": "https://localhost:8080/",
          "height": 161
        },
        "id": "MWt3CxkI_ez6",
        "outputId": "f9c6c5b0-948c-4779-cf09-0a3d97a22d7b"
      },
      "execution_count": null,
      "outputs": [
        {
          "output_type": "display_data",
          "data": {
            "text/html": [
              "<table class=\"dataframe\">\n",
              "<caption>A data.frame: 2 × 4</caption>\n",
              "<thead>\n",
              "\t<tr><th scope=col>c..This.is.a.string....This.is.another.string..</th><th scope=col>X1</th><th scope=col>X2</th><th scope=col>X3</th></tr>\n",
              "\t<tr><th scope=col>&lt;chr&gt;</th><th scope=col>&lt;int&gt;</th><th scope=col>&lt;int&gt;</th><th scope=col>&lt;int&gt;</th></tr>\n",
              "</thead>\n",
              "<tbody>\n",
              "\t<tr><td>This is a string      </td><td>1</td><td>3</td><td>5</td></tr>\n",
              "\t<tr><td>This is another string</td><td>2</td><td>4</td><td>6</td></tr>\n",
              "</tbody>\n",
              "</table>\n"
            ],
            "text/markdown": "\nA data.frame: 2 × 4\n\n| c..This.is.a.string....This.is.another.string.. &lt;chr&gt; | X1 &lt;int&gt; | X2 &lt;int&gt; | X3 &lt;int&gt; |\n|---|---|---|---|\n| This is a string       | 1 | 3 | 5 |\n| This is another string | 2 | 4 | 6 |\n\n",
            "text/latex": "A data.frame: 2 × 4\n\\begin{tabular}{llll}\n c..This.is.a.string....This.is.another.string.. & X1 & X2 & X3\\\\\n <chr> & <int> & <int> & <int>\\\\\n\\hline\n\t This is a string       & 1 & 3 & 5\\\\\n\t This is another string & 2 & 4 & 6\\\\\n\\end{tabular}\n",
            "text/plain": [
              "  c..This.is.a.string....This.is.another.string.. X1 X2 X3\n",
              "1 This is a string                                1  3  5 \n",
              "2 This is another string                          2  4  6 "
            ]
          },
          "metadata": {}
        }
      ]
    },
    {
      "cell_type": "code",
      "source": [
        "#  DWB: This is external to any tutorial; it could be wrong.\n",
        "thingy = data.frame(c(\"This is a string\",\n",
        "                      \"This is another string\"),\n",
        "                    matrix(c(1:6),\n",
        "                           nrow=2,\n",
        "                           ncol=3)\n",
        "         )\n",
        "\n",
        "class(thingy)"
      ],
      "metadata": {
        "colab": {
          "base_uri": "https://localhost:8080/",
          "height": 34
        },
        "id": "RpR9a8et_-sx",
        "outputId": "d7db2772-8ea9-4ede-bbc3-e376d43d5762"
      },
      "execution_count": null,
      "outputs": [
        {
          "output_type": "display_data",
          "data": {
            "text/html": [
              "'data.frame'"
            ],
            "text/markdown": "'data.frame'",
            "text/latex": "'data.frame'",
            "text/plain": [
              "[1] \"data.frame\""
            ]
          },
          "metadata": {}
        }
      ]
    },
    {
      "cell_type": "markdown",
      "source": [
        "### Concatenation, Naming, Printing, and rbind"
      ],
      "metadata": {
        "id": "8IryvDEKAjvD"
      }
    },
    {
      "cell_type": "code",
      "source": [
        "c(5, 6, 7)"
      ],
      "metadata": {
        "colab": {
          "base_uri": "https://localhost:8080/",
          "height": 34
        },
        "id": "dg7WbWMrAZbw",
        "outputId": "34e47d2d-e752-486d-cbe0-f37dba1038f7"
      },
      "execution_count": null,
      "outputs": [
        {
          "output_type": "display_data",
          "data": {
            "text/html": [
              "<style>\n",
              ".list-inline {list-style: none; margin:0; padding: 0}\n",
              ".list-inline>li {display: inline-block}\n",
              ".list-inline>li:not(:last-child)::after {content: \"\\00b7\"; padding: 0 .5ex}\n",
              "</style>\n",
              "<ol class=list-inline><li>5</li><li>6</li><li>7</li></ol>\n"
            ],
            "text/markdown": "1. 5\n2. 6\n3. 7\n\n\n",
            "text/latex": "\\begin{enumerate*}\n\\item 5\n\\item 6\n\\item 7\n\\end{enumerate*}\n",
            "text/plain": [
              "[1] 5 6 7"
            ]
          },
          "metadata": {}
        }
      ]
    },
    {
      "cell_type": "code",
      "source": [
        "c(c(5, 6, 7),8)"
      ],
      "metadata": {
        "colab": {
          "base_uri": "https://localhost:8080/",
          "height": 34
        },
        "id": "YoqLzM8LAvpv",
        "outputId": "5f934d24-6763-46c3-d278-734a3a9fec8e"
      },
      "execution_count": null,
      "outputs": [
        {
          "output_type": "display_data",
          "data": {
            "text/html": [
              "<style>\n",
              ".list-inline {list-style: none; margin:0; padding: 0}\n",
              ".list-inline>li {display: inline-block}\n",
              ".list-inline>li:not(:last-child)::after {content: \"\\00b7\"; padding: 0 .5ex}\n",
              "</style>\n",
              "<ol class=list-inline><li>5</li><li>6</li><li>7</li><li>8</li></ol>\n"
            ],
            "text/markdown": "1. 5\n2. 6\n3. 7\n4. 8\n\n\n",
            "text/latex": "\\begin{enumerate*}\n\\item 5\n\\item 6\n\\item 7\n\\item 8\n\\end{enumerate*}\n",
            "text/plain": [
              "[1] 5 6 7 8"
            ]
          },
          "metadata": {}
        }
      ]
    },
    {
      "cell_type": "code",
      "source": [
        "c(\n",
        "  c(5, 6, 7),\n",
        "  8\n",
        ")"
      ],
      "metadata": {
        "colab": {
          "base_uri": "https://localhost:8080/",
          "height": 34
        },
        "id": "SJo9A7-NAoJn",
        "outputId": "007f2319-c2f6-47b4-f5fe-22ff5e1baf1c"
      },
      "execution_count": null,
      "outputs": [
        {
          "output_type": "display_data",
          "data": {
            "text/html": [
              "<style>\n",
              ".list-inline {list-style: none; margin:0; padding: 0}\n",
              ".list-inline>li {display: inline-block}\n",
              ".list-inline>li:not(:last-child)::after {content: \"\\00b7\"; padding: 0 .5ex}\n",
              "</style>\n",
              "<ol class=list-inline><li>5</li><li>6</li><li>7</li><li>8</li></ol>\n"
            ],
            "text/markdown": "1. 5\n2. 6\n3. 7\n4. 8\n\n\n",
            "text/latex": "\\begin{enumerate*}\n\\item 5\n\\item 6\n\\item 7\n\\item 8\n\\end{enumerate*}\n",
            "text/plain": [
              "[1] 5 6 7 8"
            ]
          },
          "metadata": {}
        }
      ]
    },
    {
      "cell_type": "markdown",
      "source": [
        "#### Naming and Assigning"
      ],
      "metadata": {
        "id": "OijOkdAUBkgZ"
      }
    },
    {
      "cell_type": "markdown",
      "source": [
        "Okay, we have this `<-` assignment thing. I wonder if the equals\n",
        "sign I used before wasn't canon R."
      ],
      "metadata": {
        "id": "uHlwemDOBWSv"
      }
    },
    {
      "cell_type": "code",
      "source": [
        "v1<-c(5, 6, 7)\n",
        "v2<-c(v1, 8)\n",
        "print(v1)\n",
        "print(v2)"
      ],
      "metadata": {
        "colab": {
          "base_uri": "https://localhost:8080/"
        },
        "id": "0mD0PI0FAzl2",
        "outputId": "e354c940-2876-4504-ed0a-2e27dac8d696"
      },
      "execution_count": null,
      "outputs": [
        {
          "output_type": "stream",
          "name": "stdout",
          "text": [
            "[1] 5 6 7\n",
            "[1] 5 6 7 8\n"
          ]
        }
      ]
    },
    {
      "cell_type": "markdown",
      "source": [
        "#### rbind and cbind"
      ],
      "metadata": {
        "id": "dQfoMwC9Bner"
      }
    },
    {
      "cell_type": "code",
      "source": [
        "matrix(c(4, 1, 3, 5, 6, 2), nrow=2, ncol=3)"
      ],
      "metadata": {
        "colab": {
          "base_uri": "https://localhost:8080/",
          "height": 132
        },
        "id": "D8KoRJp4BTqt",
        "outputId": "f2ba072c-f4fe-4c8a-c676-ff0ee7d93bed"
      },
      "execution_count": null,
      "outputs": [
        {
          "output_type": "display_data",
          "data": {
            "text/html": [
              "<table class=\"dataframe\">\n",
              "<caption>A matrix: 2 × 3 of type dbl</caption>\n",
              "<tbody>\n",
              "\t<tr><td>4</td><td>3</td><td>6</td></tr>\n",
              "\t<tr><td>1</td><td>5</td><td>2</td></tr>\n",
              "</tbody>\n",
              "</table>\n"
            ],
            "text/markdown": "\nA matrix: 2 × 3 of type dbl\n\n| 4 | 3 | 6 |\n| 1 | 5 | 2 |\n\n",
            "text/latex": "A matrix: 2 × 3 of type dbl\n\\begin{tabular}{lll}\n\t 4 & 3 & 6\\\\\n\t 1 & 5 & 2\\\\\n\\end{tabular}\n",
            "text/plain": [
              "     [,1] [,2] [,3]\n",
              "[1,] 4    3    6   \n",
              "[2,] 1    5    2   "
            ]
          },
          "metadata": {}
        }
      ]
    },
    {
      "cell_type": "markdown",
      "source": [
        "<b>&lt;DWB-note&gt;</b>\n",
        "\n",
        "Okay, <em>the ordering of reshaping into a matrix\n",
        "is <b>weird</b></em>.\n",
        "\n",
        "Using `nrow=2` and `ncol=3`, the\n",
        "\n",
        "`4, 1, 3, 5, 6, 2`\n",
        "\n",
        "goes into a matrix as\n",
        "\n",
        "```\n",
        "  4         ,>  3         ,>  6\n",
        "           |             |     \n",
        "  |       /     |       /     |\n",
        "  V      |      V      |      V\n",
        "        /             /        \n",
        "  1  ->'        5  ->'        2\n",
        "```\n",
        "\n",
        "(by the way, the $ \\in $ \\{ V, >, <, ^ \\} are arrows pointing\n",
        "the direction between subsequent numbers)\n",
        "\n",
        "instead of what I intuitively expected, which is shown below as `NOT R's WAY`\n",
        "\n",
        "```\n",
        "NOT R's WAY\n",
        "\n",
        "  4  ->  1  ->  3      \n",
        "              _/\n",
        "       __--<-'\n",
        "    --'\n",
        "   /\n",
        "  |\n",
        "  V\n",
        "  5  ->  6  ->  2\n",
        "```\n",
        "\n",
        "<b>&lt;/DWB-note&gt;</b>\n",
        "\n",
        "<br/>\n",
        "<hr/>\n",
        "\n",
        "Create two vectors and combine them with `rbind`.\n",
        "\n",
        "The second (`NOT R's WAY`) is more of how the vectors get\n",
        "row bound (`rbind` is for 'row bind')"
      ],
      "metadata": {
        "id": "y0B0bfPOB28q"
      }
    },
    {
      "cell_type": "code",
      "source": [
        "v3<-c(4, 3, 6)\n",
        "v4<-c(1, 5, 2)\n",
        "m1<-rbind(v3, v4)\n",
        "m1\n",
        "class(m1)"
      ],
      "metadata": {
        "colab": {
          "base_uri": "https://localhost:8080/",
          "height": 132
        },
        "id": "US0Y8pEDB0nN",
        "outputId": "d0e22f11-1a42-4d64-f99d-657773ccbf64"
      },
      "execution_count": null,
      "outputs": [
        {
          "output_type": "display_data",
          "data": {
            "text/html": [
              "<table class=\"dataframe\">\n",
              "<caption>A matrix: 2 × 3 of type dbl</caption>\n",
              "<tbody>\n",
              "\t<tr><th scope=row>v3</th><td>4</td><td>3</td><td>6</td></tr>\n",
              "\t<tr><th scope=row>v4</th><td>1</td><td>5</td><td>2</td></tr>\n",
              "</tbody>\n",
              "</table>\n"
            ],
            "text/markdown": "\nA matrix: 2 × 3 of type dbl\n\n| v3 | 4 | 3 | 6 |\n| v4 | 1 | 5 | 2 |\n\n",
            "text/latex": "A matrix: 2 × 3 of type dbl\n\\begin{tabular}{r|lll}\n\tv3 & 4 & 3 & 6\\\\\n\tv4 & 1 & 5 & 2\\\\\n\\end{tabular}\n",
            "text/plain": [
              "   [,1] [,2] [,3]\n",
              "v3 4    3    6   \n",
              "v4 1    5    2   "
            ]
          },
          "metadata": {}
        },
        {
          "output_type": "display_data",
          "data": {
            "text/html": [
              "<style>\n",
              ".list-inline {list-style: none; margin:0; padding: 0}\n",
              ".list-inline>li {display: inline-block}\n",
              ".list-inline>li:not(:last-child)::after {content: \"\\00b7\"; padding: 0 .5ex}\n",
              "</style>\n",
              "<ol class=list-inline><li>'matrix'</li><li>'array'</li></ol>\n"
            ],
            "text/markdown": "1. 'matrix'\n2. 'array'\n\n\n",
            "text/latex": "\\begin{enumerate*}\n\\item 'matrix'\n\\item 'array'\n\\end{enumerate*}\n",
            "text/plain": [
              "[1] \"matrix\" \"array\" "
            ]
          },
          "metadata": {}
        }
      ]
    },
    {
      "cell_type": "markdown",
      "source": [
        "Ooh, R gave us the row names as we gave the vectors! Hooray!"
      ],
      "metadata": {
        "id": "1KqpULhkhBb-"
      }
    },
    {
      "cell_type": "code",
      "source": [
        "m2<-matrix(c(1, 2, 3, 4), nrow=2, ncol=2)\n",
        "m2"
      ],
      "metadata": {
        "colab": {
          "base_uri": "https://localhost:8080/",
          "height": 166
        },
        "id": "1IK6uBE_gzW8",
        "outputId": "59a1b5bd-95d6-447a-fd55-a8170962b446"
      },
      "execution_count": null,
      "outputs": [
        {
          "output_type": "display_data",
          "data": {
            "text/html": [
              "<table class=\"dataframe\">\n",
              "<caption>A matrix: 2 × 2 of type dbl</caption>\n",
              "<tbody>\n",
              "\t<tr><td>1</td><td>3</td></tr>\n",
              "\t<tr><td>2</td><td>4</td></tr>\n",
              "</tbody>\n",
              "</table>\n"
            ],
            "text/markdown": "\nA matrix: 2 × 2 of type dbl\n\n| 1 | 3 |\n| 2 | 4 |\n\n",
            "text/latex": "A matrix: 2 × 2 of type dbl\n\\begin{tabular}{ll}\n\t 1 & 3\\\\\n\t 2 & 4\\\\\n\\end{tabular}\n",
            "text/plain": [
              "     [,1] [,2]\n",
              "[1,] 1    3   \n",
              "[2,] 2    4   "
            ]
          },
          "metadata": {}
        }
      ]
    },
    {
      "cell_type": "code",
      "source": [
        "m3<-cbind(m2, c(5, 6))\n",
        "m3"
      ],
      "metadata": {
        "colab": {
          "base_uri": "https://localhost:8080/",
          "height": 132
        },
        "id": "FZpbha8bhMCo",
        "outputId": "3a504a92-1d54-4fb3-a10b-d167ecafbcdf"
      },
      "execution_count": null,
      "outputs": [
        {
          "output_type": "display_data",
          "data": {
            "text/html": [
              "<table class=\"dataframe\">\n",
              "<caption>A matrix: 2 × 3 of type dbl</caption>\n",
              "<tbody>\n",
              "\t<tr><td>1</td><td>3</td><td>5</td></tr>\n",
              "\t<tr><td>2</td><td>4</td><td>6</td></tr>\n",
              "</tbody>\n",
              "</table>\n"
            ],
            "text/markdown": "\nA matrix: 2 × 3 of type dbl\n\n| 1 | 3 | 5 |\n| 2 | 4 | 6 |\n\n",
            "text/latex": "A matrix: 2 × 3 of type dbl\n\\begin{tabular}{lll}\n\t 1 & 3 & 5\\\\\n\t 2 & 4 & 6\\\\\n\\end{tabular}\n",
            "text/plain": [
              "     [,1] [,2] [,3]\n",
              "[1,] 1    3    5   \n",
              "[2,] 2    4    6   "
            ]
          },
          "metadata": {}
        }
      ]
    },
    {
      "cell_type": "markdown",
      "source": [
        "That order of insertion is still very weird to me."
      ],
      "metadata": {
        "id": "EmfvondHho8G"
      }
    },
    {
      "cell_type": "code",
      "source": [
        "?help  # gives lots of stuff on the right! It's all in its own window"
      ],
      "metadata": {
        "id": "RC35AoFShkFW"
      },
      "execution_count": null,
      "outputs": []
    },
    {
      "cell_type": "markdown",
      "source": [
        "The help output is off to the right in its own sub-window, and\n",
        "there are tabs in the sub-window if you search multiple things.\n",
        "I don't really like that. I'll copy/paste the info I need into a cell below the code."
      ],
      "metadata": {
        "id": "nS53TNMFoIcP"
      }
    },
    {
      "cell_type": "code",
      "source": [
        "##  Search the help using `help.search()` or with two question marks.\n",
        "##+ Example, use `help.search(\"json\")` or\n",
        "??json"
      ],
      "metadata": {
        "id": "4WCi-8REnzKf"
      },
      "execution_count": null,
      "outputs": []
    },
    {
      "cell_type": "markdown",
      "source": [
        "Output begins with\n",
        "\n",
        "```\n",
        "R Information\n",
        "\n",
        "Vignettes with name or keyword or title matching ‘json’ using regular\n",
        "expression matching:\n",
        "\n",
        "\n",
        "jsonlite::`json-aaquickstart`\n",
        "                        Getting started with JSON and jsonlite\n",
        "jsonlite::`json-apis`   Fetching JSON data from REST APIs\n",
        "```\n",
        "\n",
        "and continues on."
      ],
      "metadata": {
        "id": "m-atWco-oW84"
      }
    },
    {
      "cell_type": "code",
      "source": [
        "# Something I'll want to use.\n",
        "useFancyQuotes = FALSE  # the default is TRUE\n",
        "#  Well, I'd want to use it if I could figure out\n",
        "#+ what it is."
      ],
      "metadata": {
        "id": "sZ3Q2EXfiO2_"
      },
      "execution_count": null,
      "outputs": []
    },
    {
      "cell_type": "code",
      "source": [
        "??useFancyQuotes  # This doesn't come up on the right!"
      ],
      "metadata": {
        "colab": {
          "base_uri": "https://localhost:8080/",
          "height": 54
        },
        "id": "rHz-hlk-ijeS",
        "outputId": "9401525e-e8f4-4caa-edc2-f2971b10fbdf"
      },
      "execution_count": null,
      "outputs": [
        {
          "output_type": "display_data",
          "data": {
            "text/plain": [
              "No vignettes or demos or help files found with alias or concept or\n",
              "title matching ‘useFancyQuotes’ using fuzzy matching."
            ]
          },
          "metadata": {}
        }
      ]
    },
    {
      "cell_type": "markdown",
      "source": [
        "It seems that might be an argument for the `help()` function."
      ],
      "metadata": {
        "id": "4miwSCpshsRm"
      }
    },
    {
      "cell_type": "code",
      "source": [
        "help(lapply)  #  The docs always show up off to the right\n",
        "              #+ I wish I could get it to be the output"
      ],
      "metadata": {
        "id": "jXWNA23JilGa"
      },
      "execution_count": null,
      "outputs": []
    },
    {
      "cell_type": "markdown",
      "source": [
        "Nope - not an argument. Trying the code,\n",
        "\n",
        "`help(lapply, useFancyQuotes=FALSE)`\n",
        "\n",
        "throws an error."
      ],
      "metadata": {
        "id": "EIj8SNe_yDBn"
      }
    },
    {
      "cell_type": "code",
      "source": [
        "?\"for\"  # still opens to the right"
      ],
      "metadata": {
        "id": "_JA3PDiRiy2g"
      },
      "execution_count": null,
      "outputs": []
    },
    {
      "cell_type": "code",
      "source": [
        "print(\"\bC_\bo_\bn_\bt_\br_\bo_\bl _\bF_\bl_\bo_\bw\")\n",
        "  #  I think that it's supposed to do cool moving text\n",
        "  #+ It fails here in Jupyter R"
      ],
      "metadata": {
        "colab": {
          "base_uri": "https://localhost:8080/"
        },
        "id": "24HXeN1ijxKm",
        "outputId": "e9b208ea-f60d-4550-9ae4-cade6fbbafba"
      },
      "execution_count": null,
      "outputs": [
        {
          "output_type": "stream",
          "name": "stdout",
          "text": [
            "[1] \"\\bC_\\bo_\\bn_\\bt_\\br_\\bo_\\bl _\\bF_\\bl_\\bo_\\bw\"\n"
          ]
        }
      ]
    },
    {
      "cell_type": "markdown",
      "source": [
        "Some more stuff that looks fun from the help."
      ],
      "metadata": {
        "id": "Q4hTPYfypdT7"
      }
    },
    {
      "cell_type": "code",
      "source": [
        "help()  #  To get the fun examples (They look fun; I hope they are.)"
      ],
      "metadata": {
        "id": "1dcwj9TWpg8h"
      },
      "execution_count": null,
      "outputs": []
    },
    {
      "cell_type": "code",
      "source": [
        "help(package = \"splines\") # get help even when package is not loaded"
      ],
      "metadata": {
        "id": "CswKF46FpoMX"
      },
      "execution_count": null,
      "outputs": []
    },
    {
      "cell_type": "markdown",
      "source": [
        "```\n",
        "Documentation for package ‘splines’\n",
        "\n",
        "\n",
        "\t\tInformation on package ‘splines’\n",
        "\n",
        "Description:\n",
        "\n",
        "Package:            splines\n",
        "Version:            4.4.1\n",
        "Priority:           base\n",
        "Imports:            graphics, stats\n",
        "Title:              Regression Spline Functions and Classes\n",
        "Author:             Douglas M. Bates <bates@stat.wisc.edu> and William\n",
        "                    N. Venables <Bill.Venables@csiro.au>\n",
        "Maintainer:         R Core Team <do-use-Contact-address@r-project.org>\n",
        "Contact:            R-help mailing list <r-help@r-project.org>\n",
        "Description:        Regression spline functions and classes.\n",
        "\n",
        "...\n",
        "\n",
        "Index:\n",
        "\n",
        "asVector                Coerce an Object to a Vector\n",
        "backSpline              Monotone Inverse Spline\n",
        "bs                      B-Spline Basis for Polynomial Splines\n",
        "interpSpline            Create an Interpolation Spline\n",
        "ns                      Generate a Basis Matrix for Natural Cubic\n",
        "                        Splines\n",
        "periodicSpline          Create a Periodic Interpolation Spline\n",
        "\n",
        "...\n",
        "\n",
        "```"
      ],
      "metadata": {
        "id": "ThpPnLGgp6ZR"
      }
    },
    {
      "cell_type": "code",
      "source": [
        "topi <- \"women\"\n",
        "help(topi)"
      ],
      "metadata": {
        "id": "0wnqCzRKqhTn"
      },
      "execution_count": null,
      "outputs": []
    },
    {
      "cell_type": "markdown",
      "source": [
        "```\n",
        "women                 package:datasets                 R Documentation\n",
        "\n",
        "Average Heights and Weights for American Women\n",
        "\n",
        "Description:\n",
        "\n",
        "     This data set gives the average heights and weights for American\n",
        "     women aged 30-39.\n",
        "\n",
        "Usage:\n",
        "\n",
        "     women\n",
        "     \n",
        "Format:\n",
        "\n",
        "     A data frame with 15 observations on 2 variables.\n",
        "\n",
        "       ‘[,1]’  ‘height’  numeric  Height (in)  \n",
        "       ‘[,2]’  ‘weight’  numeric  Weight (lbs)\n",
        "      \n",
        "Details:\n",
        "\n",
        "     The data set appears to have been taken from the American Society\n",
        "     of Actuaries _Build and Blood Pressure Study_ for some (unknown to\n",
        "     us) earlier year.\n",
        "\n",
        "     The World Almanac notes: “The figures represent weights in\n",
        "     ordinary indoor clothing and shoes, and heights with shoes”.\n",
        "\n",
        "Source:\n",
        "\n",
        "     The World Almanac and Book of Facts, 1975.\n",
        "\n",
        "References:\n",
        "\n",
        "     McNeil, D. R. (1977) _Interactive Data Analysis_.  Wiley.\n",
        "\n",
        "Examples:\n",
        "\n",
        "     require(graphics)\n",
        "     plot(women, xlab = \"Height (in)\", ylab = \"Weight (lb)\",\n",
        "          main = \"women data: American women aged 30-39\")\n",
        "```\n",
        "\n",
        "I want to try that plot later, after I've done another, first, basic histogram plot."
      ],
      "metadata": {
        "id": "e4Lzo4B7qik_"
      }
    },
    {
      "cell_type": "markdown",
      "source": [
        "Ooh, catching an error! That could have been useful, earlier."
      ],
      "metadata": {
        "id": "gKvlCFoWsR_a"
      }
    },
    {
      "cell_type": "code",
      "source": [
        "try(help(\"bs\", try.all.packages = FALSE))\n",
        "    # reports not found (an error)"
      ],
      "metadata": {
        "id": "7GZpyA-AsWGD"
      },
      "execution_count": null,
      "outputs": []
    },
    {
      "cell_type": "markdown",
      "source": [
        "Output (brought from that stupid window to the right)\n",
        "\n",
        "```\n",
        "No documentation for ‘bs’ in specified packages and libraries:\n",
        "you could try ‘??bs’\n",
        "```"
      ],
      "metadata": {
        "id": "yLmE-aFTsgnz"
      }
    },
    {
      "cell_type": "code",
      "source": [
        "help(\"bs\", try.all.packages = TRUE)\n",
        "    # reports can be found\n",
        "    # in package 'splines'"
      ],
      "metadata": {
        "id": "wx6Oc8oAsexo"
      },
      "execution_count": null,
      "outputs": []
    },
    {
      "cell_type": "markdown",
      "source": [
        "Output: A bunch of nice data, and a good example that\n",
        "I can try after my first histogram and the other women\n",
        "plot.\n",
        "\n",
        "```\n",
        "Examples:\n",
        "\n",
        "     require(stats); require(graphics)\n",
        "     bs(women$height, df = 5)\n",
        "     summary(fm1 <- lm(weight ~ bs(height, df = 5), data = women))\n",
        "     \n",
        "     ## example of safe prediction\n",
        "     plot(women, xlab = \"Height (in)\", ylab = \"Weight (lb)\")\n",
        "     ht <- seq(57, 73, length.out = 200)\n",
        "     lines(ht, predict(fm1, data.frame(height = ht)))\n",
        "```"
      ],
      "metadata": {
        "id": "8Ppfq31Hs5PO"
      }
    },
    {
      "cell_type": "markdown",
      "source": [
        "And, for kicks and giggles,"
      ],
      "metadata": {
        "id": "9V2w31ow2LTD"
      }
    },
    {
      "cell_type": "code",
      "source": [
        "??bs"
      ],
      "metadata": {
        "id": "qlLEq1IU2MJv"
      },
      "execution_count": null,
      "outputs": []
    },
    {
      "cell_type": "markdown",
      "source": [
        "Output\n",
        "\n",
        "(I've added the line numbers, oh, and I've also\n",
        "done the search\n",
        "for anything with \"spline\" in it)\n",
        "\n",
        "```\n",
        "1    R Information\n",
        "2\n",
        "3    Vignettes with name or keyword or title matching ‘bs’ using regular\n",
        "4    expression matching:\n",
        "5    \n",
        "6    \n",
        "7    data.table::`datatable-keys-fast-subset`\n",
        "8                            Keys and fast binary search based subset\n",
        "9    dplyr::`two-table`      Two-table verbs\n",
        "10    grid::frame             Frames and packing grobs\n",
        "11   grid::grobs             Working with grid grobs\n",
        "12   grid::sharing           Modifying multiple grobs simultaneously\n",
        "13   \n",
        "14   \n",
        "15   Type 'vignette(PKG::FOO)' to inspect entries 'PKG::FOO'.\n",
        "16   \n",
        "17   \n",
        "18   \n",
        "19   Demos with name or title matching ‘bs’ using regular expression\n",
        "20   matching:\n",
        "21   \n",
        "22   \n",
        "23   httpuv::`json-server`   JSON API endpoint server using WebSockets\n",
        "24   httpuv::echo            Simple echo server demonstrating WebSockets\n",
        "25   stats::lm.glm           Some linear and generalized linear modelling\n",
        "26                           examples from `An Introduction to Statistical\n",
        "27                           Modelling' by Annette Dobson\n",
        "28   \n",
        "29   \n",
        "30   Type 'demo(PKG::FOO)' to run demonstration 'PKG::FOO'.\n",
        "31   \n",
        "32    \n",
        "33   \n",
        "34   Help files with alias or concept or title matching ‘bs’ using regular\n",
        "35   expression matching:\n",
        "36   \n",
        "37   \n",
        "38   base::.Library          Search Paths for Packages\n",
        "39     Aliases: R_LIBS, R_LIBS_SITE, R_LIBS_USER\n",
        "40   base::.subset           Internal Objects in Package 'base'\n",
        "41     Aliases: .subset, .subset2, .expand_R_libs_env_var\n",
        "\n",
        "...\n",
        "\n",
        "265  MASS::quine             Absenteeism from School in Rural New South\n",
        "266                          Wales\n",
        "267  Matrix::`subassign-methods`\n",
        "268                          Methods for \"[<-\" - Assigning to Subsets for\n",
        "269                          'Matrix'\n",
        "270  Matrix::`subscript-methods`\n",
        "271                          Methods for \"[\": Extraction or Subsetting in\n",
        "272                          Package 'Matrix'\n",
        "273    Aliases: subscript-methods\n",
        "274  Matrix::abIndex-class   Class \"abIndex\" of Abstract Index Vectors\n",
        "275  Matrix::abIseq          Sequence Generation of \"abIndex\", Abstract\n",
        "276                          Index Vectors\n",
        "277  methods::asMethodDefinition\n",
        "278                          Method Utilities\n",
        "279    Aliases: substituteFunctionArgs\n",
        "280  methods::substituteDirect\n",
        "281                          'SubstituteDirect'\n",
        "282    Aliases: substituteDirect\n",
        "282  mgcv::jagam             Just Another Gibbs Additive Modeller: JAGS\n",
        "283                          support for mgcv.\n",
        "284  mgcv::smooth.construct.bs.smooth.spec\n",
        "285                          Penalized B-splines in GAMs\n",
        "286    Aliases: smooth.construct.bs.smooth.spec,\n",
        "287      Predict.matrix.Bspline.smooth\n",
        "288  mgcv::uniquecombs       find the unique rows in a matrix\n",
        "289    Aliases: uniquecombs\n",
        "290  miniUI::miniTabPanel    Create a tabstrip panel\n",
        "291    Aliases: miniTabstripPanel\n",
        "\n",
        "...\n",
        "\n",
        "385  shiny::observeEvent     Event handler\n",
        "386    Aliases: observeEvent\n",
        "387  shiny::tabsetPanel      Create a tabset panel\n",
        "388    Aliases: tabsetPanel\n",
        "389  shiny::updateTabsetPanel\n",
        "390                          Change the selected tab on the client\n",
        "391    Aliases: updateTabsetPanel\n",
        "392  splines::bs             B-Spline Basis for Polynomial Splines\n",
        "393    Aliases: bs\n",
        "394  splines::predict.bs     Evaluate a Spline Basis\n",
        "395    Aliases: predict.bs\n",
        "396  splines::predict.bSpline\n",
        "397                          Evaluate a Spline at New Values of x\n",
        "398    Aliases: predict.bSpline, predict.nbSpline, predict.pbSpline\n",
        "399  stats::aggregate        Compute Summary Statistics of Data Subsets\n",
        "400  stats::dendrogram       General Tree Structures\n",
        "401    Aliases: nobs.dendrogram\n",
        "402  stats::mad              Median Absolute Deviation\n",
        "403  stats::monthplot        Plot a Seasonal or other Subseries from a Time\n",
        "404                          Series\n",
        "\n",
        "...\n",
        "\n",
        "458  Type '?PKG::FOO' to inspect entries 'PKG::FOO', or 'TYPE?PKG::FOO' for\n",
        "459  entries like 'PKG::FOO-TYPE'.\n",
        "```"
      ],
      "metadata": {
        "id": "OH3b-Emk2Ooe"
      }
    },
    {
      "cell_type": "markdown",
      "source": [
        "### Learning By Using the Help"
      ],
      "metadata": {
        "id": "pFlepeljT3DL"
      }
    },
    {
      "cell_type": "code",
      "source": [
        "?`for`  # still opens to the right, but here are some important parts"
      ],
      "metadata": {
        "id": "L687cgEsim2e"
      },
      "execution_count": null,
      "outputs": []
    },
    {
      "cell_type": "markdown",
      "source": [
        "#### if, for from help"
      ],
      "metadata": {
        "id": "zXi4p_ZGT6Mk"
      }
    },
    {
      "cell_type": "markdown",
      "source": [
        "```\n",
        "Control     package:base     R Documentation\n",
        "\n",
        "...\n",
        "\n",
        "Usage:\n",
        "\n",
        "     if(cond) expr\n",
        "     if(cond) cons.expr  else  alt.expr\n",
        "     \n",
        "     for(var in seq) expr\n",
        "     while(cond) expr\n",
        "     repeat expr\n",
        "     break\n",
        "     next\n",
        "     \n",
        "     x %||% y\n",
        "\n",
        "...\n",
        "\n",
        "Value:\n",
        "\n",
        "    ‘if’ returns the value of the expression evaluated, or ‘NULL’\n",
        "     invisibly if none was (which may happen if there is no ‘else’).\n",
        "\n",
        "     ‘for’, ‘while’ and ‘repeat’ return ‘NULL’ invisibly.  ‘for’ sets\n",
        "     ‘var’ to the last used element of ‘seq’, or to ‘NULL’ if it was of\n",
        "     length zero.\n",
        "\n",
        "     ‘break’ and ‘next’ do not return a value as they transfer control\n",
        "     within the loop.\n",
        "\n",
        "...\n",
        "\n",
        "Examples:\n",
        "\n",
        "     for(i in 1:5) print(1:i)\n",
        "     for(n in c(2,5,10,20,50)) {\n",
        "        x <- stats::rnorm(n)\n",
        "        cat(n, \": \", sum(x^2), \"\\n\", sep = \"\")\n",
        "     }\n",
        "     f <- factor(sample(letters[1:5], 10, replace = TRUE))\n",
        "     for(i in unique(f)) print(i)\n",
        "     \n",
        "     res <- {}\n",
        "     res %||% \"alternative result\"\n",
        "     x <- head(x) %||% stop(\"parsed, but *not* evaluated..\")\n",
        "     \n",
        "     res <- if(sum(x) > 7.5) mean(x) # may be NULL\n",
        "     res %||% \"sum(x) <= 7.5\"\n",
        "    \n",
        "```"
      ],
      "metadata": {
        "id": "gi8tYSbZjcgt"
      }
    },
    {
      "cell_type": "code",
      "source": [
        "if(5 > 3)\n",
        "{\n",
        "    print(\"This should print.\")\n",
        "} else  # note same-line requirement for '{', 'else'\n",
        "{\n",
        "    print(\"This should not print.\")\n",
        "}"
      ],
      "metadata": {
        "colab": {
          "base_uri": "https://localhost:8080/"
        },
        "id": "x-m3OLh1UM6y",
        "outputId": "db68b61f-8924-4cd5-fe4e-91fc2b0f2db3"
      },
      "execution_count": null,
      "outputs": [
        {
          "output_type": "stream",
          "name": "stdout",
          "text": [
            "[1] \"This should print.\"\n"
          ]
        }
      ]
    },
    {
      "cell_type": "code",
      "source": [
        "f <- factor(sample(letters[1:5],\n",
        "                   10,\n",
        "                   replace=TRUE))\n",
        "f\n",
        "\n",
        "print(\"\")\n",
        "print(\"---\")\n",
        "print(\"\")\n",
        "\n",
        "for (i in f) print(i)\n",
        "\n",
        "print(\"\")\n",
        "print(\"---\")\n",
        "print(\"\")\n",
        "\n",
        "for(i in unique(f))\n",
        "{\n",
        "    print(i)\n",
        "}"
      ],
      "metadata": {
        "colab": {
          "base_uri": "https://localhost:8080/",
          "height": 435
        },
        "id": "6wikx1qzU8qa",
        "outputId": "2b07a9f2-a2da-4451-dbd5-efdf0bb5c4d1"
      },
      "execution_count": null,
      "outputs": [
        {
          "output_type": "display_data",
          "data": {
            "text/html": [
              "<style>\n",
              ".list-inline {list-style: none; margin:0; padding: 0}\n",
              ".list-inline>li {display: inline-block}\n",
              ".list-inline>li:not(:last-child)::after {content: \"\\00b7\"; padding: 0 .5ex}\n",
              "</style>\n",
              "<ol class=list-inline><li>a</li><li>c</li><li>c</li><li>b</li><li>c</li><li>e</li><li>a</li><li>c</li><li>e</li><li>d</li></ol>\n",
              "\n",
              "<details>\n",
              "\t<summary style=display:list-item;cursor:pointer>\n",
              "\t\t<strong>Levels</strong>:\n",
              "\t</summary>\n",
              "\t<style>\n",
              "\t.list-inline {list-style: none; margin:0; padding: 0}\n",
              "\t.list-inline>li {display: inline-block}\n",
              "\t.list-inline>li:not(:last-child)::after {content: \"\\00b7\"; padding: 0 .5ex}\n",
              "\t</style>\n",
              "\t<ol class=list-inline><li>'a'</li><li>'b'</li><li>'c'</li><li>'d'</li><li>'e'</li></ol>\n",
              "</details>"
            ],
            "text/markdown": "1. a\n2. c\n3. c\n4. b\n5. c\n6. e\n7. a\n8. c\n9. e\n10. d\n\n\n\n**Levels**: 1. 'a'\n2. 'b'\n3. 'c'\n4. 'd'\n5. 'e'\n\n\n",
            "text/latex": "\\begin{enumerate*}\n\\item a\n\\item c\n\\item c\n\\item b\n\\item c\n\\item e\n\\item a\n\\item c\n\\item e\n\\item d\n\\end{enumerate*}\n\n\\emph{Levels}: \\begin{enumerate*}\n\\item 'a'\n\\item 'b'\n\\item 'c'\n\\item 'd'\n\\item 'e'\n\\end{enumerate*}\n",
            "text/plain": [
              " [1] a c c b c e a c e d\n",
              "Levels: a b c d e"
            ]
          },
          "metadata": {}
        },
        {
          "output_type": "stream",
          "name": "stdout",
          "text": [
            "[1] \"\"\n",
            "[1] \"---\"\n",
            "[1] \"\"\n",
            "[1] \"a\"\n",
            "[1] \"c\"\n",
            "[1] \"c\"\n",
            "[1] \"b\"\n",
            "[1] \"c\"\n",
            "[1] \"e\"\n",
            "[1] \"a\"\n",
            "[1] \"c\"\n",
            "[1] \"e\"\n",
            "[1] \"d\"\n",
            "[1] \"\"\n",
            "[1] \"---\"\n",
            "[1] \"\"\n",
            "[1] \"a\"\n",
            "[1] \"c\"\n",
            "[1] \"b\"\n",
            "[1] \"e\"\n",
            "[1] \"d\"\n"
          ]
        }
      ]
    },
    {
      "cell_type": "code",
      "source": [
        "x = c(3, 2)\n",
        "\n",
        "res <- if(sum(x) > 7.5) mean(x) # may be NULL\n",
        "res %||% \"sum(x) <= 7.5\""
      ],
      "metadata": {
        "colab": {
          "base_uri": "https://localhost:8080/",
          "height": 34
        },
        "id": "aLgEkZPlWI9m",
        "outputId": "0773b867-ba14-419d-82cf-81a0c1cc7a5d"
      },
      "execution_count": null,
      "outputs": [
        {
          "output_type": "display_data",
          "data": {
            "text/html": [
              "'sum(x) &lt;= 7.5'"
            ],
            "text/markdown": "'sum(x) &lt;= 7.5'",
            "text/latex": "'sum(x) <= 7.5'",
            "text/plain": [
              "[1] \"sum(x) <= 7.5\""
            ]
          },
          "metadata": {}
        }
      ]
    },
    {
      "cell_type": "code",
      "source": [
        "x = c(3, 2, 8)\n",
        "res <- if(sum(x) > 7.5) mean(x) # may be NULL\n",
        "res %||% \"sum(x) <= 7.5\""
      ],
      "metadata": {
        "colab": {
          "base_uri": "https://localhost:8080/",
          "height": 34
        },
        "id": "BZyWJchtXOzf",
        "outputId": "437f2bc2-d8f9-477e-fa21-80924ebec29a"
      },
      "execution_count": null,
      "outputs": [
        {
          "output_type": "display_data",
          "data": {
            "text/html": [
              "4.33333333333333"
            ],
            "text/markdown": "4.33333333333333",
            "text/latex": "4.33333333333333",
            "text/plain": [
              "[1] 4.333333"
            ]
          },
          "metadata": {}
        }
      ]
    },
    {
      "cell_type": "code",
      "source": [
        "(3 + 2 + 8) / 3.0"
      ],
      "metadata": {
        "colab": {
          "base_uri": "https://localhost:8080/",
          "height": 34
        },
        "id": "jJMDt2KeXOuB",
        "outputId": "a96fbdc6-7f9c-4248-c027-1d53bef3a2ae"
      },
      "execution_count": null,
      "outputs": [
        {
          "output_type": "display_data",
          "data": {
            "text/html": [
              "4.33333333333333"
            ],
            "text/markdown": "4.33333333333333",
            "text/latex": "4.33333333333333",
            "text/plain": [
              "[1] 4.333333"
            ]
          },
          "metadata": {}
        }
      ]
    },
    {
      "cell_type": "code",
      "source": [
        "x = c()\n",
        "res <- if(sum(x) > 7.5) mean(x) # may be NULL\n",
        "res %||% \"sum(x) <= 7.5\""
      ],
      "metadata": {
        "colab": {
          "base_uri": "https://localhost:8080/",
          "height": 34
        },
        "id": "GE6kO1PLXOqG",
        "outputId": "8fb8b14f-51e2-49b9-8ab6-3585dc718d38"
      },
      "execution_count": null,
      "outputs": [
        {
          "output_type": "display_data",
          "data": {
            "text/html": [
              "'sum(x) &lt;= 7.5'"
            ],
            "text/markdown": "'sum(x) &lt;= 7.5'",
            "text/latex": "'sum(x) <= 7.5'",
            "text/plain": [
              "[1] \"sum(x) <= 7.5\""
            ]
          },
          "metadata": {}
        }
      ]
    },
    {
      "cell_type": "code",
      "source": [
        "x = c(3, 2, 8)\n",
        "\n",
        "#  Will not throw an error for the input above\n",
        "x <- head(x) %||% stop(\"parsed, but *not* evaluated..\")\n",
        "print(x)"
      ],
      "metadata": {
        "colab": {
          "base_uri": "https://localhost:8080/"
        },
        "id": "fJO1gMI8XOke",
        "outputId": "8429fcb5-f198-407e-91d3-62fa9bfc98b8"
      },
      "execution_count": null,
      "outputs": [
        {
          "output_type": "stream",
          "name": "stdout",
          "text": [
            "[1] 3 2 8\n"
          ]
        }
      ]
    },
    {
      "cell_type": "markdown",
      "source": [
        "The boolean in the next cell is <em>only</em> for its own cell of code. If you pass in a value of `TRUE`, then execution of the rest of the notebook <b>will not occur!</b>"
      ],
      "metadata": {
        "id": "1TfBKEnoYCMP"
      }
    },
    {
      "cell_type": "code",
      "source": [
        "do_see_error = FALSE\n",
        "\n",
        "x = c()\n",
        "\n",
        "if (do_see_error)\n",
        "{\n",
        "    #  Will throw an error for the input above\n",
        "    x <- head(x) %||% stop(\"parsed, but *not* evaluated..\")\n",
        "}"
      ],
      "metadata": {
        "id": "Aou3F1M0XvjV"
      },
      "execution_count": null,
      "outputs": []
    },
    {
      "cell_type": "markdown",
      "source": [
        "Here is what the output would have been if `do_see_error = TRUE`.\n",
        "(The idea is for you to leave `do_see_error = False`, by the way.)\n",
        "\n",
        "Output:\n",
        "\n",
        "```\n",
        "Error in head(x) %||% stop(\"parsed, but *not* evaluated..\"): parsed, but *not* evaluated..\n",
        "Traceback:\n",
        "\n",
        "1. head(x) %||% stop(\"parsed, but *not* evaluated..\")   # at line 8 of file <text>\n",
        "2. stop(\"parsed, but *not* evaluated..\")\n",
        "```"
      ],
      "metadata": {
        "id": "0sEk1OnBZNTc"
      }
    },
    {
      "cell_type": "markdown",
      "source": [
        "#### lapply from help - Getting to Some Statistics and Plots"
      ],
      "metadata": {
        "id": "bGD7i_3SUAnW"
      }
    },
    {
      "cell_type": "code",
      "source": [
        "?\"lapply\""
      ],
      "metadata": {
        "id": "MfSvu9cljKfV"
      },
      "execution_count": null,
      "outputs": []
    },
    {
      "cell_type": "markdown",
      "source": [
        "Apply a Function over a List or Vector\n",
        "\n",
        "Description:\n",
        "\n",
        "     ‘lapply’ returns a list of the same length as ‘X’, each element of\n",
        "     which is the result of applying ‘FUN’ to the corresponding element\n",
        "     of ‘X’.\n",
        "\n",
        "     ‘sapply’ is a user-friendly version and wrapper of ‘lapply’ by\n",
        "     default returning a vector, matrix or, if ‘simplify = \"array\"’, an\n",
        "     array if appropriate, by applying ‘simplify2array()’.  ‘sapply(x,\n",
        "     f, simplify = FALSE, USE.NAMES = FALSE)’ is the same as ‘lapply(x,\n",
        "     f)’.\n",
        "\n",
        "     ‘vapply’ is similar to ‘sapply’, but has a pre-specified type of\n",
        "     return value, so it can be safer (and sometimes faster) to use.\n",
        "\n",
        "     ‘replicate’ is a wrapper for the common use of ‘sapply’ for\n",
        "     repeated evaluation of an expression (which will usually involve\n",
        "     random number generation).\n",
        "\n",
        "     ‘simplify2array()’ is the utility called from ‘sapply()’ when\n",
        "     ‘simplify’ is not false and is similarly called from ‘mapply()’.\n",
        "\n",
        "Usage:\n",
        "\n",
        "     lapply(X, FUN, ...)\n",
        "     \n",
        "     sapply(X, FUN, ..., simplify = TRUE, USE.NAMES = TRUE)\n",
        "     \n",
        "     vapply(X, FUN, FUN.VALUE, ..., USE.NAMES = TRUE)\n",
        "     \n",
        "     replicate(n, expr, simplify = \"array\")\n",
        "     \n",
        "     simplify2array(x, higher = TRUE, except = c(0L, 1L))\n",
        "\n",
        "Examples:\n",
        "\n",
        "     require(stats); require(graphics)\n",
        "     \n",
        "     x <- list(a = 1:10, beta = exp(-3:3), logic = c(TRUE,FALSE,FALSE,TRUE))\n",
        "     # compute the list mean for each list element\n",
        "     lapply(x, mean)\n",
        "     # median and quartiles for each list element\n",
        "     lapply(x, quantile, probs = 1:3/4)\n",
        "     sapply(x, quantile)\n",
        "     i39 <- sapply(3:9, seq) # list of vectors\n",
        "     sapply(i39, fivenum)\n",
        "     vapply(i39, fivenum,\n",
        "            c(Min. = 0, \"1st Qu.\" = 0, Median = 0, \"3rd Qu.\" = 0, Max. = 0))\n",
        "     \n",
        "     ## sapply(*, \"array\") -- artificial example\n",
        "     (v <- structure(10*(5:8), names = LETTERS[1:4]))\n",
        "     f2 <- function(x, y) outer(rep(x, length.out = 3), y)\n",
        "     (a2 <- sapply(v, f2, y = 2*(1:5), simplify = \"array\"))\n",
        "     a.2 <- vapply(v, f2, outer(1:3, 1:5), y = 2*(1:5))\n",
        "     stopifnot(dim(a2) == c(3,5,4), all.equal(a2, a.2),\n",
        "               identical(dimnames(a2), list(NULL,NULL,LETTERS[1:4])))\n",
        "     \n",
        "     hist(replicate(100, mean(rexp(10))))\n",
        "     \n",
        "     ## use of replicate() with parameters:\n",
        "     foo <- function(x = 1, y = 2) c(x, y)\n",
        "     # does not work: bar <- function(n, ...) replicate(n, foo(...))\n",
        "     bar <- function(n, x) replicate(n, foo(x = x))\n",
        "     bar(5, x = 3)\n",
        "```"
      ],
      "metadata": {
        "id": "AkN0FSx7YEXC"
      }
    },
    {
      "cell_type": "code",
      "source": [
        "require(stats)\n",
        "\n",
        "x <- list(a = 1:10,\n",
        "          beta = exp(-3:3),\n",
        "          logic=c(TRUE,FALSE,FALSE,TRUE))\n",
        "\n",
        "# compute the list mean for each list element\n",
        "lapply(x, mean)\n",
        "\n",
        "print(\"\")\n",
        "print(\"----------\")\n",
        "print(\"\")\n",
        "\n",
        "# median and quartiles for each list element\n",
        "lapply(x, quantile, probs=1:3/4)\n",
        "print(\"---\")\n",
        "sapply(x, quantile)"
      ],
      "metadata": {
        "colab": {
          "base_uri": "https://localhost:8080/",
          "height": 561
        },
        "id": "HOcbfWqmX8TZ",
        "outputId": "ba864b3f-4539-4e95-f5aa-36225f1301da"
      },
      "execution_count": null,
      "outputs": [
        {
          "output_type": "display_data",
          "data": {
            "text/html": [
              "<dl>\n",
              "\t<dt>$a</dt>\n",
              "\t\t<dd>5.5</dd>\n",
              "\t<dt>$beta</dt>\n",
              "\t\t<dd>4.53512523476476</dd>\n",
              "\t<dt>$logic</dt>\n",
              "\t\t<dd>0.5</dd>\n",
              "</dl>\n"
            ],
            "text/markdown": "$a\n:   5.5\n$beta\n:   4.53512523476476\n$logic\n:   0.5\n\n\n",
            "text/latex": "\\begin{description}\n\\item[\\$a] 5.5\n\\item[\\$beta] 4.53512523476476\n\\item[\\$logic] 0.5\n\\end{description}\n",
            "text/plain": [
              "$a\n",
              "[1] 5.5\n",
              "\n",
              "$beta\n",
              "[1] 4.535125\n",
              "\n",
              "$logic\n",
              "[1] 0.5\n"
            ]
          },
          "metadata": {}
        },
        {
          "output_type": "stream",
          "name": "stdout",
          "text": [
            "[1] \"\"\n",
            "[1] \"----------\"\n",
            "[1] \"\"\n"
          ]
        },
        {
          "output_type": "display_data",
          "data": {
            "text/html": [
              "<dl>\n",
              "\t<dt>$a</dt>\n",
              "\t\t<dd><style>\n",
              ".dl-inline {width: auto; margin:0; padding: 0}\n",
              ".dl-inline>dt, .dl-inline>dd {float: none; width: auto; display: inline-block}\n",
              ".dl-inline>dt::after {content: \":\\0020\"; padding-right: .5ex}\n",
              ".dl-inline>dt:not(:first-of-type) {padding-left: .5ex}\n",
              "</style><dl class=dl-inline><dt>25%</dt><dd>3.25</dd><dt>50%</dt><dd>5.5</dd><dt>75%</dt><dd>7.75</dd></dl>\n",
              "</dd>\n",
              "\t<dt>$beta</dt>\n",
              "\t\t<dd><style>\n",
              ".dl-inline {width: auto; margin:0; padding: 0}\n",
              ".dl-inline>dt, .dl-inline>dd {float: none; width: auto; display: inline-block}\n",
              ".dl-inline>dt::after {content: \":\\0020\"; padding-right: .5ex}\n",
              ".dl-inline>dt:not(:first-of-type) {padding-left: .5ex}\n",
              "</style><dl class=dl-inline><dt>25%</dt><dd>0.251607362204028</dd><dt>50%</dt><dd>1</dd><dt>75%</dt><dd>5.05366896369485</dd></dl>\n",
              "</dd>\n",
              "\t<dt>$logic</dt>\n",
              "\t\t<dd><style>\n",
              ".dl-inline {width: auto; margin:0; padding: 0}\n",
              ".dl-inline>dt, .dl-inline>dd {float: none; width: auto; display: inline-block}\n",
              ".dl-inline>dt::after {content: \":\\0020\"; padding-right: .5ex}\n",
              ".dl-inline>dt:not(:first-of-type) {padding-left: .5ex}\n",
              "</style><dl class=dl-inline><dt>25%</dt><dd>0</dd><dt>50%</dt><dd>0.5</dd><dt>75%</dt><dd>1</dd></dl>\n",
              "</dd>\n",
              "</dl>\n"
            ],
            "text/markdown": "$a\n:   25%\n:   3.2550%\n:   5.575%\n:   7.75\n\n\n$beta\n:   25%\n:   0.25160736220402850%\n:   175%\n:   5.05366896369485\n\n\n$logic\n:   25%\n:   050%\n:   0.575%\n:   1\n\n\n\n\n",
            "text/latex": "\\begin{description}\n\\item[\\$a] \\begin{description*}\n\\item[25\\textbackslash{}\\%] 3.25\n\\item[50\\textbackslash{}\\%] 5.5\n\\item[75\\textbackslash{}\\%] 7.75\n\\end{description*}\n\n\\item[\\$beta] \\begin{description*}\n\\item[25\\textbackslash{}\\%] 0.251607362204028\n\\item[50\\textbackslash{}\\%] 1\n\\item[75\\textbackslash{}\\%] 5.05366896369485\n\\end{description*}\n\n\\item[\\$logic] \\begin{description*}\n\\item[25\\textbackslash{}\\%] 0\n\\item[50\\textbackslash{}\\%] 0.5\n\\item[75\\textbackslash{}\\%] 1\n\\end{description*}\n\n\\end{description}\n",
            "text/plain": [
              "$a\n",
              " 25%  50%  75% \n",
              "3.25 5.50 7.75 \n",
              "\n",
              "$beta\n",
              "      25%       50%       75% \n",
              "0.2516074 1.0000000 5.0536690 \n",
              "\n",
              "$logic\n",
              "25% 50% 75% \n",
              "0.0 0.5 1.0 \n"
            ]
          },
          "metadata": {}
        },
        {
          "output_type": "stream",
          "name": "stdout",
          "text": [
            "[1] \"---\"\n"
          ]
        },
        {
          "output_type": "display_data",
          "data": {
            "text/html": [
              "<table class=\"dataframe\">\n",
              "<caption>A matrix: 5 × 3 of type dbl</caption>\n",
              "<thead>\n",
              "\t<tr><th></th><th scope=col>a</th><th scope=col>beta</th><th scope=col>logic</th></tr>\n",
              "</thead>\n",
              "<tbody>\n",
              "\t<tr><th scope=row>0%</th><td> 1.00</td><td> 0.04978707</td><td>0.0</td></tr>\n",
              "\t<tr><th scope=row>25%</th><td> 3.25</td><td> 0.25160736</td><td>0.0</td></tr>\n",
              "\t<tr><th scope=row>50%</th><td> 5.50</td><td> 1.00000000</td><td>0.5</td></tr>\n",
              "\t<tr><th scope=row>75%</th><td> 7.75</td><td> 5.05366896</td><td>1.0</td></tr>\n",
              "\t<tr><th scope=row>100%</th><td>10.00</td><td>20.08553692</td><td>1.0</td></tr>\n",
              "</tbody>\n",
              "</table>\n"
            ],
            "text/markdown": "\nA matrix: 5 × 3 of type dbl\n\n| <!--/--> | a | beta | logic |\n|---|---|---|---|\n| 0% |  1.00 |  0.04978707 | 0.0 |\n| 25% |  3.25 |  0.25160736 | 0.0 |\n| 50% |  5.50 |  1.00000000 | 0.5 |\n| 75% |  7.75 |  5.05366896 | 1.0 |\n| 100% | 10.00 | 20.08553692 | 1.0 |\n\n",
            "text/latex": "A matrix: 5 × 3 of type dbl\n\\begin{tabular}{r|lll}\n  & a & beta & logic\\\\\n\\hline\n\t0\\% &  1.00 &  0.04978707 & 0.0\\\\\n\t25\\% &  3.25 &  0.25160736 & 0.0\\\\\n\t50\\% &  5.50 &  1.00000000 & 0.5\\\\\n\t75\\% &  7.75 &  5.05366896 & 1.0\\\\\n\t100\\% & 10.00 & 20.08553692 & 1.0\\\\\n\\end{tabular}\n",
            "text/plain": [
              "     a     beta        logic\n",
              "0%    1.00  0.04978707 0.0  \n",
              "25%   3.25  0.25160736 0.0  \n",
              "50%   5.50  1.00000000 0.5  \n",
              "75%   7.75  5.05366896 1.0  \n",
              "100% 10.00 20.08553692 1.0  "
            ]
          },
          "metadata": {}
        }
      ]
    },
    {
      "cell_type": "code",
      "source": [
        "require(stats)\n",
        "\n",
        "#  Let's look at this `fivenum` thing - probably\n",
        "#+ the important statistical measures\n",
        "i39 <- sapply(3:9, seq) # list of vectors\n",
        "print(\"---\")\n",
        "sapply(i39, fivenum)\n",
        "print(\"---\")\n",
        "vapply(i39, fivenum,\n",
        "        c(Min. = 0,\n",
        "          \"1st Qu.\" = 0,\n",
        "          Median = 0,\n",
        "          \"3rd Qu.\" = 0,\n",
        "          Max. = 0)\n",
        ")"
      ],
      "metadata": {
        "colab": {
          "base_uri": "https://localhost:8080/",
          "height": 402
        },
        "id": "DcJQlYVeaxvI",
        "outputId": "ab352183-d35d-4bb3-fb41-690ac88f2e7a"
      },
      "execution_count": null,
      "outputs": [
        {
          "output_type": "stream",
          "name": "stdout",
          "text": [
            "[1] \"---\"\n"
          ]
        },
        {
          "output_type": "display_data",
          "data": {
            "text/html": [
              "<table class=\"dataframe\">\n",
              "<caption>A matrix: 5 × 7 of type dbl</caption>\n",
              "<tbody>\n",
              "\t<tr><td>1.0</td><td>1.0</td><td>1</td><td>1.0</td><td>1.0</td><td>1.0</td><td>1</td></tr>\n",
              "\t<tr><td>1.5</td><td>1.5</td><td>2</td><td>2.0</td><td>2.5</td><td>2.5</td><td>3</td></tr>\n",
              "\t<tr><td>2.0</td><td>2.5</td><td>3</td><td>3.5</td><td>4.0</td><td>4.5</td><td>5</td></tr>\n",
              "\t<tr><td>2.5</td><td>3.5</td><td>4</td><td>5.0</td><td>5.5</td><td>6.5</td><td>7</td></tr>\n",
              "\t<tr><td>3.0</td><td>4.0</td><td>5</td><td>6.0</td><td>7.0</td><td>8.0</td><td>9</td></tr>\n",
              "</tbody>\n",
              "</table>\n"
            ],
            "text/markdown": "\nA matrix: 5 × 7 of type dbl\n\n| 1.0 | 1.0 | 1 | 1.0 | 1.0 | 1.0 | 1 |\n| 1.5 | 1.5 | 2 | 2.0 | 2.5 | 2.5 | 3 |\n| 2.0 | 2.5 | 3 | 3.5 | 4.0 | 4.5 | 5 |\n| 2.5 | 3.5 | 4 | 5.0 | 5.5 | 6.5 | 7 |\n| 3.0 | 4.0 | 5 | 6.0 | 7.0 | 8.0 | 9 |\n\n",
            "text/latex": "A matrix: 5 × 7 of type dbl\n\\begin{tabular}{lllllll}\n\t 1.0 & 1.0 & 1 & 1.0 & 1.0 & 1.0 & 1\\\\\n\t 1.5 & 1.5 & 2 & 2.0 & 2.5 & 2.5 & 3\\\\\n\t 2.0 & 2.5 & 3 & 3.5 & 4.0 & 4.5 & 5\\\\\n\t 2.5 & 3.5 & 4 & 5.0 & 5.5 & 6.5 & 7\\\\\n\t 3.0 & 4.0 & 5 & 6.0 & 7.0 & 8.0 & 9\\\\\n\\end{tabular}\n",
            "text/plain": [
              "     [,1] [,2] [,3] [,4] [,5] [,6] [,7]\n",
              "[1,] 1.0  1.0  1    1.0  1.0  1.0  1   \n",
              "[2,] 1.5  1.5  2    2.0  2.5  2.5  3   \n",
              "[3,] 2.0  2.5  3    3.5  4.0  4.5  5   \n",
              "[4,] 2.5  3.5  4    5.0  5.5  6.5  7   \n",
              "[5,] 3.0  4.0  5    6.0  7.0  8.0  9   "
            ]
          },
          "metadata": {}
        },
        {
          "output_type": "stream",
          "name": "stdout",
          "text": [
            "[1] \"---\"\n"
          ]
        },
        {
          "output_type": "display_data",
          "data": {
            "text/html": [
              "<table class=\"dataframe\">\n",
              "<caption>A matrix: 5 × 7 of type dbl</caption>\n",
              "<tbody>\n",
              "\t<tr><th scope=row>Min.</th><td>1.0</td><td>1.0</td><td>1</td><td>1.0</td><td>1.0</td><td>1.0</td><td>1</td></tr>\n",
              "\t<tr><th scope=row>1st Qu.</th><td>1.5</td><td>1.5</td><td>2</td><td>2.0</td><td>2.5</td><td>2.5</td><td>3</td></tr>\n",
              "\t<tr><th scope=row>Median</th><td>2.0</td><td>2.5</td><td>3</td><td>3.5</td><td>4.0</td><td>4.5</td><td>5</td></tr>\n",
              "\t<tr><th scope=row>3rd Qu.</th><td>2.5</td><td>3.5</td><td>4</td><td>5.0</td><td>5.5</td><td>6.5</td><td>7</td></tr>\n",
              "\t<tr><th scope=row>Max.</th><td>3.0</td><td>4.0</td><td>5</td><td>6.0</td><td>7.0</td><td>8.0</td><td>9</td></tr>\n",
              "</tbody>\n",
              "</table>\n"
            ],
            "text/markdown": "\nA matrix: 5 × 7 of type dbl\n\n| Min. | 1.0 | 1.0 | 1 | 1.0 | 1.0 | 1.0 | 1 |\n| 1st Qu. | 1.5 | 1.5 | 2 | 2.0 | 2.5 | 2.5 | 3 |\n| Median | 2.0 | 2.5 | 3 | 3.5 | 4.0 | 4.5 | 5 |\n| 3rd Qu. | 2.5 | 3.5 | 4 | 5.0 | 5.5 | 6.5 | 7 |\n| Max. | 3.0 | 4.0 | 5 | 6.0 | 7.0 | 8.0 | 9 |\n\n",
            "text/latex": "A matrix: 5 × 7 of type dbl\n\\begin{tabular}{r|lllllll}\n\tMin. & 1.0 & 1.0 & 1 & 1.0 & 1.0 & 1.0 & 1\\\\\n\t1st Qu. & 1.5 & 1.5 & 2 & 2.0 & 2.5 & 2.5 & 3\\\\\n\tMedian & 2.0 & 2.5 & 3 & 3.5 & 4.0 & 4.5 & 5\\\\\n\t3rd Qu. & 2.5 & 3.5 & 4 & 5.0 & 5.5 & 6.5 & 7\\\\\n\tMax. & 3.0 & 4.0 & 5 & 6.0 & 7.0 & 8.0 & 9\\\\\n\\end{tabular}\n",
            "text/plain": [
              "        [,1] [,2] [,3] [,4] [,5] [,6] [,7]\n",
              "Min.    1.0  1.0  1    1.0  1.0  1.0  1   \n",
              "1st Qu. 1.5  1.5  2    2.0  2.5  2.5  3   \n",
              "Median  2.0  2.5  3    3.5  4.0  4.5  5   \n",
              "3rd Qu. 2.5  3.5  4    5.0  5.5  6.5  7   \n",
              "Max.    3.0  4.0  5    6.0  7.0  8.0  9   "
            ]
          },
          "metadata": {}
        }
      ]
    },
    {
      "cell_type": "code",
      "source": [
        "require(stats); require(graphics)\n",
        "\n",
        "hist(replicate(100, mean(rexp(10))))"
      ],
      "metadata": {
        "colab": {
          "base_uri": "https://localhost:8080/",
          "height": 437
        },
        "id": "oyzIP2nzbrVJ",
        "outputId": "f08824a5-2aba-4c82-c8c2-aae36d1defec"
      },
      "execution_count": null,
      "outputs": [
        {
          "output_type": "display_data",
          "data": {
            "text/plain": [
              "Plot with title “Histogram of replicate(100, mean(rexp(10)))”"
            ],
            "image/png": "[encoded data removed]"
          },
          "metadata": {
            "image/png": {
              "width": 420,
              "height": 420
            }
          }
        }
      ]
    },
    {
      "cell_type": "markdown",
      "source": [
        "Okay, make sure I understand that. I need to know what `rexp` does."
      ],
      "metadata": {
        "id": "beIgUzRzgXfC"
      }
    },
    {
      "cell_type": "code",
      "source": [
        "?`rexp`"
      ],
      "metadata": {
        "id": "C-sbCJGxgbxJ"
      },
      "execution_count": null,
      "outputs": []
    },
    {
      "cell_type": "markdown",
      "source": [
        "```\n",
        "Exponential     package:stats     R Documentation\n",
        "\n",
        "The Exponential Distribution\n",
        "\n",
        "Description:\n",
        "\n",
        "     Density, distribution function, quantile function and random\n",
        "     generation for the exponential distribution with rate ‘rate’\n",
        "     (i.e., mean ‘1/rate’).\n",
        "\n",
        "Usage:\n",
        "\n",
        "     dexp(x, rate = 1, log = FALSE)\n",
        "     pexp(q, rate = 1, lower.tail = TRUE, log.p = FALSE)\n",
        "     qexp(p, rate = 1, lower.tail = TRUE, log.p = FALSE)\n",
        "     rexp(n, rate = 1)\n",
        "     \n",
        "Arguments:\n",
        "\n",
        "    x, q: vector of quantiles.\n",
        "\n",
        "       p: vector of probabilities.\n",
        "\n",
        "       n: number of observations. If ‘length(n) > 1’, the length is\n",
        "          taken to be the number required.\n",
        "\n",
        "    rate: vector of rates.\n",
        "\n",
        "log, log.p: logical; if TRUE, probabilities p are given as log(p).\n",
        "\n",
        "lower.tail: logical; if TRUE (default), probabilities are P[X <= x],\n",
        "          otherwise, P[X > x].\n",
        "\n",
        "...\n",
        "\n",
        "\n",
        "\n",
        "Value:\n",
        "\n",
        "     ‘dexp’ gives the density, ‘pexp’ gives the distribution function,\n",
        "     ‘qexp’ gives the quantile function, and ‘rexp’ generates random\n",
        "     deviates.\n",
        "\n",
        "     The length of the result is determined by ‘n’ for ‘rexp’, and is\n",
        "     the maximum of the lengths of the numerical arguments for the\n",
        "     other functions.\n",
        "\n",
        "     The numerical arguments other than ‘n’ are recycled to the length\n",
        "     of the result.  Only the first elements of the logical arguments\n",
        "     are used.\n",
        "\n",
        "```"
      ],
      "metadata": {
        "id": "SKsBaqcJglQO"
      }
    },
    {
      "cell_type": "markdown",
      "source": [
        "#### Now, that plot from the help women results"
      ],
      "metadata": {
        "id": "vZZ1hnakrhWs"
      }
    },
    {
      "cell_type": "code",
      "source": [
        "require(graphics)\n",
        "plot(women,\n",
        "     xlab = \"Height (in)\",\n",
        "     ylab = \"Weight (lb)\",\n",
        "     main = \"women data: American women aged 30-39\")"
      ],
      "metadata": {
        "colab": {
          "base_uri": "https://localhost:8080/",
          "height": 437
        },
        "id": "uBRdIQdxrpaL",
        "outputId": "713bacad-be45-4b32-fa04-ed715c577b12"
      },
      "execution_count": null,
      "outputs": [
        {
          "output_type": "display_data",
          "data": {
            "text/plain": [
              "Plot with title “women data: American women aged 30-39”"
            ],
            "image/png": "[encoded data removed]"
          },
          "metadata": {
            "image/png": {
              "width": 420,
              "height": 420
            }
          }
        }
      ]
    },
    {
      "cell_type": "code",
      "source": [
        "\n",
        "require(stats); require(graphics); require(splines)\n",
        "bs(women$height, df = 5)\n",
        "summary(fm1 <- lm(weight ~ bs(height, df = 5), data = women))\n",
        "\n",
        "## example of safe prediction\n",
        "plot(women, xlab = \"Height (in)\", ylab = \"Weight (lb)\")\n",
        "ht <- seq(57, 73, length.out = 200)\n",
        "lines(ht, predict(fm1, data.frame(height = ht)))"
      ],
      "metadata": {
        "colab": {
          "base_uri": "https://localhost:8080/",
          "height": 1000
        },
        "id": "U34Oi1UctRbs",
        "outputId": "ac48003e-f6c2-41de-91ff-31aa090dc225"
      },
      "execution_count": null,
      "outputs": [
        {
          "output_type": "stream",
          "name": "stderr",
          "text": [
            "Loading required package: splines\n",
            "\n"
          ]
        },
        {
          "output_type": "display_data",
          "data": {
            "text/html": [
              "<table class=\"dataframe\">\n",
              "<caption>A bs: 15 × 5 of type dbl</caption>\n",
              "<thead>\n",
              "\t<tr><th scope=col>1</th><th scope=col>2</th><th scope=col>3</th><th scope=col>4</th><th scope=col>5</th></tr>\n",
              "</thead>\n",
              "<tbody>\n",
              "\t<tr><td>0.000000e+00</td><td>0.000000000</td><td>0.000000000</td><td>0.000000e+00</td><td>0.000000000</td></tr>\n",
              "\t<tr><td>4.534439e-01</td><td>0.059857872</td><td>0.001639942</td><td>0.000000e+00</td><td>0.000000000</td></tr>\n",
              "\t<tr><td>5.969388e-01</td><td>0.203352770</td><td>0.013119534</td><td>0.000000e+00</td><td>0.000000000</td></tr>\n",
              "\t<tr><td>5.338010e-01</td><td>0.376366618</td><td>0.044278426</td><td>0.000000e+00</td><td>0.000000000</td></tr>\n",
              "\t<tr><td>3.673469e-01</td><td>0.524781341</td><td>0.104956268</td><td>0.000000e+00</td><td>0.000000000</td></tr>\n",
              "\t<tr><td>2.001640e-01</td><td>0.595025510</td><td>0.204719388</td><td>9.110787e-05</td><td>0.000000000</td></tr>\n",
              "\t<tr><td>9.110787e-02</td><td>0.566326531</td><td>0.336734694</td><td>5.830904e-03</td><td>0.000000000</td></tr>\n",
              "\t<tr><td>3.125000e-02</td><td>0.468750000</td><td>0.468750000</td><td>3.125000e-02</td><td>0.000000000</td></tr>\n",
              "\t<tr><td>5.830904e-03</td><td>0.336734694</td><td>0.566326531</td><td>9.110787e-02</td><td>0.000000000</td></tr>\n",
              "\t<tr><td>9.110787e-05</td><td>0.204719388</td><td>0.595025510</td><td>2.001640e-01</td><td>0.000000000</td></tr>\n",
              "\t<tr><td>0.000000e+00</td><td>0.104956268</td><td>0.524781341</td><td>3.673469e-01</td><td>0.002915452</td></tr>\n",
              "\t<tr><td>0.000000e+00</td><td>0.044278426</td><td>0.376366618</td><td>5.338010e-01</td><td>0.045553936</td></tr>\n",
              "\t<tr><td>0.000000e+00</td><td>0.013119534</td><td>0.203352770</td><td>5.969388e-01</td><td>0.186588921</td></tr>\n",
              "\t<tr><td>0.000000e+00</td><td>0.001639942</td><td>0.059857872</td><td>4.534439e-01</td><td>0.485058309</td></tr>\n",
              "\t<tr><td>0.000000e+00</td><td>0.000000000</td><td>0.000000000</td><td>0.000000e+00</td><td>1.000000000</td></tr>\n",
              "</tbody>\n",
              "</table>\n"
            ],
            "text/markdown": "\nA bs: 15 × 5 of type dbl\n\n| 1 | 2 | 3 | 4 | 5 |\n|---|---|---|---|---|\n| 0.000000e+00 | 0.000000000 | 0.000000000 | 0.000000e+00 | 0.000000000 |\n| 4.534439e-01 | 0.059857872 | 0.001639942 | 0.000000e+00 | 0.000000000 |\n| 5.969388e-01 | 0.203352770 | 0.013119534 | 0.000000e+00 | 0.000000000 |\n| 5.338010e-01 | 0.376366618 | 0.044278426 | 0.000000e+00 | 0.000000000 |\n| 3.673469e-01 | 0.524781341 | 0.104956268 | 0.000000e+00 | 0.000000000 |\n| 2.001640e-01 | 0.595025510 | 0.204719388 | 9.110787e-05 | 0.000000000 |\n| 9.110787e-02 | 0.566326531 | 0.336734694 | 5.830904e-03 | 0.000000000 |\n| 3.125000e-02 | 0.468750000 | 0.468750000 | 3.125000e-02 | 0.000000000 |\n| 5.830904e-03 | 0.336734694 | 0.566326531 | 9.110787e-02 | 0.000000000 |\n| 9.110787e-05 | 0.204719388 | 0.595025510 | 2.001640e-01 | 0.000000000 |\n| 0.000000e+00 | 0.104956268 | 0.524781341 | 3.673469e-01 | 0.002915452 |\n| 0.000000e+00 | 0.044278426 | 0.376366618 | 5.338010e-01 | 0.045553936 |\n| 0.000000e+00 | 0.013119534 | 0.203352770 | 5.969388e-01 | 0.186588921 |\n| 0.000000e+00 | 0.001639942 | 0.059857872 | 4.534439e-01 | 0.485058309 |\n| 0.000000e+00 | 0.000000000 | 0.000000000 | 0.000000e+00 | 1.000000000 |\n\n",
            "text/latex": "A bs: 15 × 5 of type dbl\n\\begin{tabular}{lllll}\n 1 & 2 & 3 & 4 & 5\\\\\n\\hline\n\t 0.000000e+00 & 0.000000000 & 0.000000000 & 0.000000e+00 & 0.000000000\\\\\n\t 4.534439e-01 & 0.059857872 & 0.001639942 & 0.000000e+00 & 0.000000000\\\\\n\t 5.969388e-01 & 0.203352770 & 0.013119534 & 0.000000e+00 & 0.000000000\\\\\n\t 5.338010e-01 & 0.376366618 & 0.044278426 & 0.000000e+00 & 0.000000000\\\\\n\t 3.673469e-01 & 0.524781341 & 0.104956268 & 0.000000e+00 & 0.000000000\\\\\n\t 2.001640e-01 & 0.595025510 & 0.204719388 & 9.110787e-05 & 0.000000000\\\\\n\t 9.110787e-02 & 0.566326531 & 0.336734694 & 5.830904e-03 & 0.000000000\\\\\n\t 3.125000e-02 & 0.468750000 & 0.468750000 & 3.125000e-02 & 0.000000000\\\\\n\t 5.830904e-03 & 0.336734694 & 0.566326531 & 9.110787e-02 & 0.000000000\\\\\n\t 9.110787e-05 & 0.204719388 & 0.595025510 & 2.001640e-01 & 0.000000000\\\\\n\t 0.000000e+00 & 0.104956268 & 0.524781341 & 3.673469e-01 & 0.002915452\\\\\n\t 0.000000e+00 & 0.044278426 & 0.376366618 & 5.338010e-01 & 0.045553936\\\\\n\t 0.000000e+00 & 0.013119534 & 0.203352770 & 5.969388e-01 & 0.186588921\\\\\n\t 0.000000e+00 & 0.001639942 & 0.059857872 & 4.534439e-01 & 0.485058309\\\\\n\t 0.000000e+00 & 0.000000000 & 0.000000000 & 0.000000e+00 & 1.000000000\\\\\n\\end{tabular}\n",
            "text/plain": [
              "      1            2           3           4            5          \n",
              " [1,] 0.000000e+00 0.000000000 0.000000000 0.000000e+00 0.000000000\n",
              " [2,] 4.534439e-01 0.059857872 0.001639942 0.000000e+00 0.000000000\n",
              " [3,] 5.969388e-01 0.203352770 0.013119534 0.000000e+00 0.000000000\n",
              " [4,] 5.338010e-01 0.376366618 0.044278426 0.000000e+00 0.000000000\n",
              " [5,] 3.673469e-01 0.524781341 0.104956268 0.000000e+00 0.000000000\n",
              " [6,] 2.001640e-01 0.595025510 0.204719388 9.110787e-05 0.000000000\n",
              " [7,] 9.110787e-02 0.566326531 0.336734694 5.830904e-03 0.000000000\n",
              " [8,] 3.125000e-02 0.468750000 0.468750000 3.125000e-02 0.000000000\n",
              " [9,] 5.830904e-03 0.336734694 0.566326531 9.110787e-02 0.000000000\n",
              "[10,] 9.110787e-05 0.204719388 0.595025510 2.001640e-01 0.000000000\n",
              "[11,] 0.000000e+00 0.104956268 0.524781341 3.673469e-01 0.002915452\n",
              "[12,] 0.000000e+00 0.044278426 0.376366618 5.338010e-01 0.045553936\n",
              "[13,] 0.000000e+00 0.013119534 0.203352770 5.969388e-01 0.186588921\n",
              "[14,] 0.000000e+00 0.001639942 0.059857872 4.534439e-01 0.485058309\n",
              "[15,] 0.000000e+00 0.000000000 0.000000000 0.000000e+00 1.000000000"
            ]
          },
          "metadata": {}
        },
        {
          "output_type": "display_data",
          "data": {
            "text/plain": [
              "\n",
              "Call:\n",
              "lm(formula = weight ~ bs(height, df = 5), data = women)\n",
              "\n",
              "Residuals:\n",
              "     Min       1Q   Median       3Q      Max \n",
              "-0.31764 -0.13441  0.03922  0.11096  0.35086 \n",
              "\n",
              "Coefficients:\n",
              "                    Estimate Std. Error t value Pr(>|t|)    \n",
              "(Intercept)         114.8799     0.2167 530.146  < 2e-16 ***\n",
              "bs(height, df = 5)1   3.4657     0.4595   7.543 3.53e-05 ***\n",
              "bs(height, df = 5)2  13.0300     0.3965  32.860 1.10e-10 ***\n",
              "bs(height, df = 5)3  27.6161     0.4571  60.415 4.70e-13 ***\n",
              "bs(height, df = 5)4  40.8481     0.3866 105.669 3.09e-15 ***\n",
              "bs(height, df = 5)5  49.1296     0.3090 158.979  < 2e-16 ***\n",
              "---\n",
              "Signif. codes:  0 ‘***’ 0.001 ‘**’ 0.01 ‘*’ 0.05 ‘.’ 0.1 ‘ ’ 1\n",
              "\n",
              "Residual standard error: 0.2276 on 9 degrees of freedom\n",
              "Multiple R-squared:  0.9999,\tAdjusted R-squared:  0.9998 \n",
              "F-statistic: 1.298e+04 on 5 and 9 DF,  p-value: < 2.2e-16\n"
            ]
          },
          "metadata": {}
        },
        {
          "output_type": "stream",
          "name": "stderr",
          "text": [
            "Warning message in bs(height, degree = 3L, knots = c(62.6666666666667, 67.3333333333333:\n",
            "“some 'x' values beyond boundary knots may cause ill-conditioned bases”\n"
          ]
        },
        {
          "output_type": "display_data",
          "data": {
            "text/plain": [
              "plot without title"
            ],
            "image/png": "[encoded data removed]"
          },
          "metadata": {
            "image/png": {
              "width": 420,
              "height": 420
            }
          }
        }
      ]
    },
    {
      "cell_type": "markdown",
      "source": [
        "## Less-basic Basics - Some External Data and Some Plotting"
      ],
      "metadata": {
        "id": "O5ukGxZimRBg"
      }
    },
    {
      "cell_type": "markdown",
      "source": [
        "The dataset is documented at\n",
        "\n",
        "https://cran.r-project.org/web/packages/babynames/index.html\n",
        "\n",
        "([archived](https://web.archive.org/web/20240910202350/https://cran.r-project.org/web/packages/babynames/index.html))\n",
        "\n",
        "Oh, it looks like I should use the \"cononical form\" to link,\n",
        "\n",
        "https://CRAN.R-project.org/package=babynames\n",
        "\n",
        "Here's what seems to be a description.\n",
        "\n",
        "> US baby names provided by the SSA. This package contains all names\n",
        "> used for at least 5 children of either sex.\n",
        "\n",
        "And here's a somewhat-expanded title that gives us the date range.\n",
        "\n",
        "> babynames: US Baby Names 1880-2017"
      ],
      "metadata": {
        "id": "DlHJ1HILmgLw"
      }
    },
    {
      "cell_type": "markdown",
      "source": [
        "<b>Install</b>"
      ],
      "metadata": {
        "id": "CF-GcQHvunK-"
      }
    },
    {
      "cell_type": "code",
      "source": [
        "install.packages(\"babynames\")"
      ],
      "metadata": {
        "colab": {
          "base_uri": "https://localhost:8080/"
        },
        "id": "GH0WAUGbmJgs",
        "outputId": "ce5525cf-7de6-47f1-c898-8a214c26f0a9"
      },
      "execution_count": null,
      "outputs": [
        {
          "output_type": "stream",
          "name": "stderr",
          "text": [
            "Installing package into ‘/usr/local/lib/R/site-library’\n",
            "(as ‘lib’ is unspecified)\n",
            "\n"
          ]
        }
      ]
    },
    {
      "cell_type": "markdown",
      "source": [
        "<b>I'm guessing that this gets things prepared.</b>"
      ],
      "metadata": {
        "id": "ld409F18uqHc"
      }
    },
    {
      "cell_type": "code",
      "source": [
        "library(babynames)"
      ],
      "metadata": {
        "id": "RqBShSasuGnk"
      },
      "execution_count": null,
      "outputs": []
    },
    {
      "cell_type": "markdown",
      "source": [
        "It seems that `str(&lt;dataset&gt;) gives something of a\n",
        "summary and the first few entries for each field."
      ],
      "metadata": {
        "id": "BKFU5brxuvHz"
      }
    },
    {
      "cell_type": "code",
      "source": [
        "str(babynames)"
      ],
      "metadata": {
        "colab": {
          "base_uri": "https://localhost:8080/"
        },
        "id": "iF6yRPNUuLtG",
        "outputId": "8d39a01a-1222-453a-f3fc-6e107499f4a6"
      },
      "execution_count": null,
      "outputs": [
        {
          "output_type": "stream",
          "name": "stdout",
          "text": [
            "tibble [1,924,665 × 5] (S3: tbl_df/tbl/data.frame)\n",
            " $ year: num [1:1924665] 1880 1880 1880 1880 1880 1880 1880 1880 1880 1880 ...\n",
            " $ sex : chr [1:1924665] \"F\" \"F\" \"F\" \"F\" ...\n",
            " $ name: chr [1:1924665] \"Mary\" \"Anna\" \"Emma\" \"Elizabeth\" ...\n",
            " $ n   : int [1:1924665] 7065 2604 2003 1939 1746 1578 1472 1414 1320 1288 ...\n",
            " $ prop: num [1:1924665] 0.0724 0.0267 0.0205 0.0199 0.0179 ...\n"
          ]
        }
      ]
    },
    {
      "cell_type": "markdown",
      "source": [
        "Now for some fun with the data. We'll find out the popularity\n",
        "of the name, Bruno, over time"
      ],
      "metadata": {
        "id": "YPR7e81LuQGO"
      }
    },
    {
      "cell_type": "code",
      "source": [
        "#  I'm thinking the '_df' part is specifying it's a dataframe\n",
        "bruno_df <- babynames[babynames$name == \"Bruno\", ]\n",
        "\n",
        "plot( x=bruno_df$year,\n",
        "      y=bruno_df$n,\n",
        "      type=\"l\",\n",
        "      main=\"Popularity of the name, Bruno\")"
      ],
      "metadata": {
        "colab": {
          "base_uri": "https://localhost:8080/",
          "height": 437
        },
        "id": "bqwF1MQ5uMOv",
        "outputId": "198da7dd-cff2-45ab-854e-cc471334c51b"
      },
      "execution_count": null,
      "outputs": [
        {
          "output_type": "display_data",
          "data": {
            "text/plain": [
              "Plot with title “Popularity of the name, Bruno”"
            ],
            "image/png": "[encoded data removed]"
          },
          "metadata": {
            "image/png": {
              "width": 420,
              "height": 420
            }
          }
        }
      ]
    },
    {
      "cell_type": "markdown",
      "source": [
        "## Hey Napoleon, that sounds like the end"
      ],
      "metadata": {
        "id": "eOUD1syYvkun"
      }
    },
    {
      "cell_type": "markdown",
      "source": [
        "Source: Aristrocats, from Disney, some year, speaker is the dog, Lafayette\n",
        "\n",
        "It's followed by,\n",
        "\n",
        "Napoleon the dog:\n",
        "\n",
        "> I'm the leader, I'll say when it's the end ...\n",
        "\n",
        "With that Bruno plot, I feel like I've got a decent handle on some basic R. That will probably be it until I get to a LinkedIn course or something like that. Maybe\n",
        "\n",
        "https://www.linkedin.com/learning/complete-your-first-project-in-r/\n",
        "\n",
        "or\n",
        "\n",
        "https://www.linkedin.com/learning/r-for-data-science-analysis-and-visualization\n",
        "\n",
        "or\n",
        "\n",
        "https://www.linkedin.com/learning/nlp-with-quanteda-r/welcome-to-natural-language-processing-with-r\n",
        "\n",
        "or\n",
        "\n",
        "https://www.linkedin.com/learning/ai-show-using-r-in-azure-machine-learning"
      ],
      "metadata": {
        "id": "EUz6GGyQwD5h"
      }
    },
    {
      "cell_type": "markdown",
      "source": [
        "### It's the end - Napoleon (the dog)"
      ],
      "metadata": {
        "id": "Or13nrqYw3IA"
      }
    },
    {
      "cell_type": "markdown",
      "source": [
        "## Repeatibility Stuff"
      ],
      "metadata": {
        "id": "OG-CNdPbcVDZ"
      }
    },
    {
      "cell_type": "markdown",
      "source": [
        "Here comes the information on the date and the version of R\n",
        "with which we got all of this to work."
      ],
      "metadata": {
        "id": "A4VzROjwcIy_"
      }
    },
    {
      "cell_type": "code",
      "source": [
        "R.Version()"
      ],
      "metadata": {
        "colab": {
          "base_uri": "https://localhost:8080/",
          "height": 531
        },
        "id": "EmrBTvoQcJAd",
        "outputId": "92bd5ef3-74fa-4da9-f59c-21f8efceb419"
      },
      "execution_count": null,
      "outputs": [
        {
          "output_type": "display_data",
          "data": {
            "text/html": [
              "<dl>\n",
              "\t<dt>$platform</dt>\n",
              "\t\t<dd>'x86_64-pc-linux-gnu'</dd>\n",
              "\t<dt>$arch</dt>\n",
              "\t\t<dd>'x86_64'</dd>\n",
              "\t<dt>$os</dt>\n",
              "\t\t<dd>'linux-gnu'</dd>\n",
              "\t<dt>$system</dt>\n",
              "\t\t<dd>'x86_64, linux-gnu'</dd>\n",
              "\t<dt>$status</dt>\n",
              "\t\t<dd>''</dd>\n",
              "\t<dt>$major</dt>\n",
              "\t\t<dd>'4'</dd>\n",
              "\t<dt>$minor</dt>\n",
              "\t\t<dd>'4.1'</dd>\n",
              "\t<dt>$year</dt>\n",
              "\t\t<dd>'2024'</dd>\n",
              "\t<dt>$month</dt>\n",
              "\t\t<dd>'06'</dd>\n",
              "\t<dt>$day</dt>\n",
              "\t\t<dd>'14'</dd>\n",
              "\t<dt>$`svn rev`</dt>\n",
              "\t\t<dd>'86737'</dd>\n",
              "\t<dt>$language</dt>\n",
              "\t\t<dd>'R'</dd>\n",
              "\t<dt>$version.string</dt>\n",
              "\t\t<dd>'R version 4.4.1 (2024-06-14)'</dd>\n",
              "\t<dt>$nickname</dt>\n",
              "\t\t<dd>'Race for Your Life'</dd>\n",
              "</dl>\n"
            ],
            "text/markdown": "$platform\n:   'x86_64-pc-linux-gnu'\n$arch\n:   'x86_64'\n$os\n:   'linux-gnu'\n$system\n:   'x86_64, linux-gnu'\n$status\n:   ''\n$major\n:   '4'\n$minor\n:   '4.1'\n$year\n:   '2024'\n$month\n:   '06'\n$day\n:   '14'\n$`svn rev`\n:   '86737'\n$language\n:   'R'\n$version.string\n:   'R version 4.4.1 (2024-06-14)'\n$nickname\n:   'Race for Your Life'\n\n\n",
            "text/latex": "\\begin{description}\n\\item[\\$platform] 'x86\\_64-pc-linux-gnu'\n\\item[\\$arch] 'x86\\_64'\n\\item[\\$os] 'linux-gnu'\n\\item[\\$system] 'x86\\_64, linux-gnu'\n\\item[\\$status] ''\n\\item[\\$major] '4'\n\\item[\\$minor] '4.1'\n\\item[\\$year] '2024'\n\\item[\\$month] '06'\n\\item[\\$day] '14'\n\\item[\\$`svn rev`] '86737'\n\\item[\\$language] 'R'\n\\item[\\$version.string] 'R version 4.4.1 (2024-06-14)'\n\\item[\\$nickname] 'Race for Your Life'\n\\end{description}\n",
            "text/plain": [
              "$platform\n",
              "[1] \"x86_64-pc-linux-gnu\"\n",
              "\n",
              "$arch\n",
              "[1] \"x86_64\"\n",
              "\n",
              "$os\n",
              "[1] \"linux-gnu\"\n",
              "\n",
              "$system\n",
              "[1] \"x86_64, linux-gnu\"\n",
              "\n",
              "$status\n",
              "[1] \"\"\n",
              "\n",
              "$major\n",
              "[1] \"4\"\n",
              "\n",
              "$minor\n",
              "[1] \"4.1\"\n",
              "\n",
              "$year\n",
              "[1] \"2024\"\n",
              "\n",
              "$month\n",
              "[1] \"06\"\n",
              "\n",
              "$day\n",
              "[1] \"14\"\n",
              "\n",
              "$`svn rev`\n",
              "[1] \"86737\"\n",
              "\n",
              "$language\n",
              "[1] \"R\"\n",
              "\n",
              "$version.string\n",
              "[1] \"R version 4.4.1 (2024-06-14)\"\n",
              "\n",
              "$nickname\n",
              "[1] \"Race for Your Life\"\n"
            ]
          },
          "metadata": {}
        }
      ]
    },
    {
      "cell_type": "markdown",
      "source": [
        "#### With Dave's Windows Machine\n"
      ],
      "metadata": {
        "id": "q4S666VScfgX"
      }
    },
    {
      "cell_type": "markdown",
      "source": [
        "Output of `R.Version()`\n",
        "\n",
        "```\n",
        "Stuff\n",
        "```"
      ],
      "metadata": {
        "id": "iOyK4WoncuIt"
      }
    },
    {
      "cell_type": "code",
      "source": [
        "# # Don't need this anymore.\n",
        "## Dave's Windows Machine\n",
        "#system(\"powershell -c (Get-Date -UFormat \\\"%s_%Y%m%dT%H%M%S%Z00\\\") -replace '[.][0-9]*_', '_'\",\n",
        "#       intern=TRUE)"
      ],
      "metadata": {
        "id": "-R2rkuxicKI9"
      },
      "execution_count": null,
      "outputs": []
    },
    {
      "cell_type": "markdown",
      "source": [
        "Output of the comand for the timestamp\n",
        "\n",
        "`timestamp`"
      ],
      "metadata": {
        "id": "RH1mWPtOc7Ct"
      }
    },
    {
      "cell_type": "markdown",
      "source": [
        "#### With CoLab"
      ],
      "metadata": {
        "id": "LR4r3CxEdEAq"
      }
    },
    {
      "cell_type": "markdown",
      "source": [
        "Output of `R.Version()`\n",
        "\n",
        "```\n",
        "$platform\n",
        "'x86_64-pc-linux-gnu'\n",
        "$arch\n",
        "'x86_64'\n",
        "$os\n",
        "'linux-gnu'\n",
        "$system\n",
        "'x86_64, linux-gnu'\n",
        "$status\n",
        "''\n",
        "$major\n",
        "'4'\n",
        "$minor\n",
        "'4.1'\n",
        "$year\n",
        "'2024'\n",
        "$month\n",
        "'06'\n",
        "$day\n",
        "'14'\n",
        "$`svn rev`\n",
        "'86737'\n",
        "$language\n",
        "'R'\n",
        "$version.string\n",
        "'R version 4.4.1 (2024-06-14)'\n",
        "$nickname\n",
        "'Race for Your Life'\n",
        "```"
      ],
      "metadata": {
        "id": "D5ELOPS5dEuE"
      }
    },
    {
      "cell_type": "code",
      "source": [
        "# CoLab\n",
        "system(\"date +'%s_%Y-%m-%dT%H%M%S%z'\", intern=TRUE)"
      ],
      "metadata": {
        "colab": {
          "base_uri": "https://localhost:8080/",
          "height": 34
        },
        "id": "weNfAf4ZdLAl",
        "outputId": "0de4a3fa-bf8b-4043-c8e6-56209e864ff7"
      },
      "execution_count": null,
      "outputs": [
        {
          "output_type": "display_data",
          "data": {
            "text/html": [
              "'1726003412_2024-09-10T212332+0000'"
            ],
            "text/markdown": "'1726003412_2024-09-10T212332+0000'",
            "text/latex": "'1726003412\\_2024-09-10T212332+0000'",
            "text/plain": [
              "[1] \"1726003412_2024-09-10T212332+0000\""
            ]
          },
          "metadata": {}
        }
      ]
    },
    {
      "cell_type": "markdown",
      "source": [
        "Output of the command for the timestamp\n",
        "\n",
        "`'1726003412_2024-09-10T212332+0000'`"
      ],
      "metadata": {
        "id": "vZirK-JQdWN2"
      }
    },
    {
      "cell_type": "markdown",
      "source": [
        "#### With MyBinder"
      ],
      "metadata": {
        "id": "MJjUkv5odgVt"
      }
    },
    {
      "cell_type": "markdown",
      "source": [
        "Output of `R.Version()`\n",
        "\n",
        "```\n",
        "Stuff\n",
        "```"
      ],
      "metadata": {
        "id": "VjAmr02mdrXT"
      }
    },
    {
      "cell_type": "code",
      "source": [
        "# MyBinder\n",
        "system(\"date +'%s_%Y-%m-%dT%H%M%S%z'\", intern=TRUE)"
      ],
      "metadata": {
        "id": "ZgfndXM9dsGF"
      },
      "execution_count": null,
      "outputs": []
    },
    {
      "cell_type": "markdown",
      "source": [
        "Output of the command for the timestamp\n",
        "\n",
        "`timestamp`"
      ],
      "metadata": {
        "id": "v9WVhN1Ldsrf"
      }
    }
  ]
}