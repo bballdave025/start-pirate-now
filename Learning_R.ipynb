{
 "cells": [
  {
   "cell_type": "markdown",
   "metadata": {
    "colab_type": "text",
    "id": "view-in-github"
   },
   "source": [
    "<a href=\"https://colab.research.google.com/github/bballdave025/start-pirate-now/blob/main/Learning_R.ipynb\" target=\"_parent\"><img src=\"https://colab.research.google.com/assets/colab-badge.svg\" alt=\"Open In Colab\"/></a>"
   ]
  },
  {
   "cell_type": "markdown",
   "metadata": {
    "id": "ybr_GEZT86qK"
   },
   "source": [
    "# Learning R"
   ]
  },
  {
   "cell_type": "markdown",
   "metadata": {
    "id": "xQuIc6SJ9G6z"
   },
   "source": [
    "Learning arrghh."
   ]
  },
  {
   "cell_type": "markdown",
   "metadata": {
    "id": "0hTll1fe9KnB"
   },
   "source": [
    "I'm looking all over online for some basic R learning.\n",
    "I'll start by doing the coding in a Jupyter notebook,\n",
    "but will move on to R Studio (or however it's called).\n",
    "I'm planning to eventually move on to a LinkedIn\n",
    "course or something on Udemy, Coursera, EdX, etc.\n",
    "\n",
    "I'm glad to have an excuse to learn R and get the\n",
    "statistical side of things. There's a job or two that\n",
    "interest me for which knowing R or Python is\n",
    "recommended. I know Python pretty well, and I'll now\n",
    "get some basics of R.\n",
    "\n",
    "The name of the repo, start-pirate-now, comes from my\n",
    "wonderful joke about the <b>R</b> programming\n",
    "language and the <b>arrghh</b> of pirates. Yes, I'm\n",
    "a dad."
   ]
  },
  {
   "cell_type": "markdown",
   "metadata": {
    "id": "4OH0wGMx9TJc"
   },
   "source": [
    "## Basic Basics"
   ]
  },
  {
   "cell_type": "markdown",
   "metadata": {
    "id": "5BoZlgMh9bgZ"
   },
   "source": [
    "### Comment and Calculator"
   ]
  },
  {
   "cell_type": "code",
   "execution_count": null,
   "metadata": {
    "colab": {
     "base_uri": "https://localhost:8080/",
     "height": 34
    },
    "id": "gOcWlaoZ9YKI",
    "outputId": "f75f03bd-09ec-4e0e-92a2-c8d1a47b7334"
   },
   "outputs": [],
   "source": [
    "#  A hash starts a comment. I will now add some numbers\n",
    "7 + 4"
   ]
  },
  {
   "cell_type": "markdown",
   "metadata": {
    "id": "RZgkyUOV9v3l"
   },
   "source": [
    "### Data Modes (Types) and Data Structures"
   ]
  },
  {
   "cell_type": "markdown",
   "metadata": {
    "id": "watW09Fr97wD"
   },
   "source": [
    "I think I've understood correctly, from looking at these\n",
    "tutorials, that everything seems to start with the\n",
    "`c()` function, which I think it concatenation.\n",
    "Concatenate numbers into a vector or matrix or whatever.\n",
    "\n",
    "`class()` will tell you the data mode or structure of its\n",
    "argument."
   ]
  },
  {
   "cell_type": "code",
   "execution_count": null,
   "metadata": {
    "colab": {
     "base_uri": "https://localhost:8080/",
     "height": 34
    },
    "id": "-BcR_R5-9shh",
    "outputId": "27cc0f42-9367-4c99-878a-aa4d9c0187dc"
   },
   "outputs": [],
   "source": [
    "class(5)"
   ]
  },
  {
   "cell_type": "code",
   "execution_count": null,
   "metadata": {
    "colab": {
     "base_uri": "https://localhost:8080/",
     "height": 34
    },
    "id": "cxhuv1rT-MDH",
    "outputId": "8d2f8b4c-3206-40ab-eb6b-ac9edca57907"
   },
   "outputs": [],
   "source": [
    "c(5, 1.7, 3, 8, 2)"
   ]
  },
  {
   "cell_type": "code",
   "execution_count": null,
   "metadata": {
    "colab": {
     "base_uri": "https://localhost:8080/",
     "height": 34
    },
    "id": "3MaXmWjR-b-t",
    "outputId": "4b55001e-fd74-4faa-c5c4-f9f86b66d197"
   },
   "outputs": [],
   "source": [
    "class(c(5, 1.7, 3, 8, 2))  # a vector"
   ]
  },
  {
   "cell_type": "code",
   "execution_count": null,
   "metadata": {
    "colab": {
     "base_uri": "https://localhost:8080/",
     "height": 34
    },
    "id": "WGrHmyF7-hL0",
    "outputId": "f6eafa21-e55f-48f2-ac4d-4fe22e4ef50b"
   },
   "outputs": [],
   "source": [
    "class(matrix(c(1, 3, 2, 4, 5, 6), nrow=2, ncol=3))  # a matrix"
   ]
  },
  {
   "cell_type": "code",
   "execution_count": null,
   "metadata": {
    "colab": {
     "base_uri": "https://localhost:8080/",
     "height": 34
    },
    "id": "eRfMHT8U_Acd",
    "outputId": "88bda6fc-24a5-4ea4-fb85-1c9e13419159"
   },
   "outputs": [],
   "source": [
    "\"This is a string!\""
   ]
  },
  {
   "cell_type": "code",
   "execution_count": null,
   "metadata": {
    "colab": {
     "base_uri": "https://localhost:8080/",
     "height": 34
    },
    "id": "VysiwNuQ_cX6",
    "outputId": "86c95992-8ecf-4c8c-963f-4aae7767aa22"
   },
   "outputs": [],
   "source": [
    "class(\"This is a string\")"
   ]
  },
  {
   "cell_type": "markdown",
   "metadata": {
    "id": "KSe7l3Es_uWM"
   },
   "source": [
    "### Data Frame"
   ]
  },
  {
   "cell_type": "code",
   "execution_count": null,
   "metadata": {
    "colab": {
     "base_uri": "https://localhost:8080/",
     "height": 161
    },
    "id": "MWt3CxkI_ez6",
    "outputId": "f9c6c5b0-948c-4779-cf09-0a3d97a22d7b"
   },
   "outputs": [],
   "source": [
    "data.frame(c(\"This is a string\",\n",
    "             \"This is another string\"),\n",
    "             matrix(c(1:6), nrow=2, ncol=3))"
   ]
  },
  {
   "cell_type": "code",
   "execution_count": null,
   "metadata": {
    "colab": {
     "base_uri": "https://localhost:8080/",
     "height": 34
    },
    "id": "RpR9a8et_-sx",
    "outputId": "d7db2772-8ea9-4ede-bbc3-e376d43d5762"
   },
   "outputs": [],
   "source": [
    "#  DWB: This is external to any tutorial; it could be wrong.\n",
    "thingy = data.frame(c(\"This is a string\",\n",
    "                      \"This is another string\"),\n",
    "                    matrix(c(1:6),\n",
    "                           nrow=2,\n",
    "                           ncol=3)\n",
    "         )\n",
    "\n",
    "class(thingy)"
   ]
  },
  {
   "cell_type": "markdown",
   "metadata": {
    "id": "8IryvDEKAjvD"
   },
   "source": [
    "### Concatenation, Naming, Printing, and rbind"
   ]
  },
  {
   "cell_type": "code",
   "execution_count": null,
   "metadata": {
    "colab": {
     "base_uri": "https://localhost:8080/",
     "height": 34
    },
    "id": "dg7WbWMrAZbw",
    "outputId": "34e47d2d-e752-486d-cbe0-f37dba1038f7"
   },
   "outputs": [],
   "source": [
    "c(5, 6, 7)"
   ]
  },
  {
   "cell_type": "code",
   "execution_count": null,
   "metadata": {
    "colab": {
     "base_uri": "https://localhost:8080/",
     "height": 34
    },
    "id": "YoqLzM8LAvpv",
    "outputId": "5f934d24-6763-46c3-d278-734a3a9fec8e"
   },
   "outputs": [],
   "source": [
    "c(c(5, 6, 7),8)"
   ]
  },
  {
   "cell_type": "code",
   "execution_count": null,
   "metadata": {
    "colab": {
     "base_uri": "https://localhost:8080/",
     "height": 34
    },
    "id": "SJo9A7-NAoJn",
    "outputId": "007f2319-c2f6-47b4-f5fe-22ff5e1baf1c"
   },
   "outputs": [],
   "source": [
    "c(\n",
    "  c(5, 6, 7),\n",
    "  8\n",
    ")"
   ]
  },
  {
   "cell_type": "markdown",
   "metadata": {
    "id": "OijOkdAUBkgZ"
   },
   "source": [
    "#### Naming and Assigning"
   ]
  },
  {
   "cell_type": "markdown",
   "metadata": {
    "id": "uHlwemDOBWSv"
   },
   "source": [
    "Okay, we have this `<-` assignment thing. I wonder if the equals\n",
    "sign I used before wasn't canon R."
   ]
  },
  {
   "cell_type": "code",
   "execution_count": null,
   "metadata": {
    "colab": {
     "base_uri": "https://localhost:8080/"
    },
    "id": "0mD0PI0FAzl2",
    "outputId": "e354c940-2876-4504-ed0a-2e27dac8d696"
   },
   "outputs": [],
   "source": [
    "v1<-c(5, 6, 7)\n",
    "v2<-c(v1, 8)\n",
    "print(v1)\n",
    "print(v2)"
   ]
  },
  {
   "cell_type": "markdown",
   "metadata": {
    "id": "dQfoMwC9Bner"
   },
   "source": [
    "#### rbind and cbind"
   ]
  },
  {
   "cell_type": "code",
   "execution_count": null,
   "metadata": {
    "colab": {
     "base_uri": "https://localhost:8080/",
     "height": 132
    },
    "id": "D8KoRJp4BTqt",
    "outputId": "f2ba072c-f4fe-4c8a-c676-ff0ee7d93bed"
   },
   "outputs": [],
   "source": [
    "matrix(c(4, 1, 3, 5, 6, 2), nrow=2, ncol=3)"
   ]
  },
  {
   "cell_type": "markdown",
   "metadata": {
    "id": "y0B0bfPOB28q"
   },
   "source": [
    "<b>&lt;DWB-note&gt;</b>\n",
    "\n",
    "Okay, <em>the ordering of reshaping into a matrix\n",
    "is <b>weird</b></em>.\n",
    "\n",
    "Using `nrow=2` and `ncol=3`, the\n",
    "\n",
    "`4, 1, 3, 5, 6, 2`\n",
    "\n",
    "goes into a matrix as\n",
    "\n",
    "```\n",
    "  4         ,>  3         ,>  6\n",
    "           |             |     \n",
    "  |       /     |       /     |\n",
    "  V      |      V      |      V\n",
    "        /             /        \n",
    "  1  ->'        5  ->'        2\n",
    "```\n",
    "\n",
    "(by the way, the $ \\in $ \\{ V, >, <, ^ \\} are arrows pointing\n",
    "the direction between subsequent numbers)\n",
    "\n",
    "instead of what I intuitively expected, which is shown below as `NOT R's WAY`\n",
    "\n",
    "```\n",
    "NOT R's WAY\n",
    "\n",
    "  4  ->  1  ->  3      \n",
    "              _/\n",
    "       __--<-'\n",
    "    --'\n",
    "   /\n",
    "  |\n",
    "  V\n",
    "  5  ->  6  ->  2\n",
    "```\n",
    "\n",
    "<b>&lt;/DWB-note&gt;</b>\n",
    "\n",
    "<br/>\n",
    "<hr/>\n",
    "\n",
    "Create two vectors and combine them with `rbind`.\n",
    "\n",
    "The second (`NOT R's WAY`) is more of how the vectors get\n",
    "row bound (`rbind` is for 'row bind')"
   ]
  },
  {
   "cell_type": "code",
   "execution_count": null,
   "metadata": {
    "colab": {
     "base_uri": "https://localhost:8080/",
     "height": 132
    },
    "id": "US0Y8pEDB0nN",
    "outputId": "d0e22f11-1a42-4d64-f99d-657773ccbf64"
   },
   "outputs": [],
   "source": [
    "v3<-c(4, 3, 6)\n",
    "v4<-c(1, 5, 2)\n",
    "m1<-rbind(v3, v4)\n",
    "m1\n",
    "class(m1)"
   ]
  },
  {
   "cell_type": "markdown",
   "metadata": {
    "id": "1KqpULhkhBb-"
   },
   "source": [
    "Ooh, R gave us the row names as we gave the vectors! Hooray!"
   ]
  },
  {
   "cell_type": "code",
   "execution_count": null,
   "metadata": {
    "colab": {
     "base_uri": "https://localhost:8080/",
     "height": 166
    },
    "id": "1IK6uBE_gzW8",
    "outputId": "59a1b5bd-95d6-447a-fd55-a8170962b446"
   },
   "outputs": [],
   "source": [
    "m2<-matrix(c(1, 2, 3, 4), nrow=2, ncol=2)\n",
    "m2"
   ]
  },
  {
   "cell_type": "code",
   "execution_count": null,
   "metadata": {
    "colab": {
     "base_uri": "https://localhost:8080/",
     "height": 132
    },
    "id": "FZpbha8bhMCo",
    "outputId": "3a504a92-1d54-4fb3-a10b-d167ecafbcdf"
   },
   "outputs": [],
   "source": [
    "m3<-cbind(m2, c(5, 6))\n",
    "m3"
   ]
  },
  {
   "cell_type": "markdown",
   "metadata": {
    "id": "EmfvondHho8G"
   },
   "source": [
    "That order of insertion is still very weird to me."
   ]
  },
  {
   "cell_type": "code",
   "execution_count": null,
   "metadata": {
    "id": "RC35AoFShkFW"
   },
   "outputs": [],
   "source": [
    "#?help  #  On CoLab:gives lots of stuff on the right! It's all in its own window\n",
    "       #  On Dave's Windows Machine, opens in a new browser window; I'll comment them out."
   ]
  },
  {
   "cell_type": "markdown",
   "metadata": {
    "id": "nS53TNMFoIcP"
   },
   "source": [
    "The help output is off to the right in its own sub-window, and\n",
    "there are tabs in the sub-window if you search multiple things.\n",
    "I don't really like that. I'll copy/paste the info I need into a cell below the code."
   ]
  },
  {
   "cell_type": "code",
   "execution_count": null,
   "metadata": {
    "id": "4WCi-8REnzKf"
   },
   "outputs": [],
   "source": [
    "##  Search the help using `help.search()` or with two question marks.\n",
    "##+ Example, use `help.search(\"json\")` or\n",
    "#??json"
   ]
  },
  {
   "cell_type": "markdown",
   "metadata": {
    "id": "m-atWco-oW84"
   },
   "source": [
    "Output begins with\n",
    "\n",
    "```\n",
    "R Information\n",
    "\n",
    "Vignettes with name or keyword or title matching ‘json’ using regular\n",
    "expression matching:\n",
    "\n",
    "\n",
    "jsonlite::`json-aaquickstart`\n",
    "                        Getting started with JSON and jsonlite\n",
    "jsonlite::`json-apis`   Fetching JSON data from REST APIs\n",
    "```\n",
    "\n",
    "and continues on."
   ]
  },
  {
   "cell_type": "code",
   "execution_count": null,
   "metadata": {
    "id": "sZ3Q2EXfiO2_"
   },
   "outputs": [],
   "source": [
    "# Something I'll want to use.\n",
    "useFancyQuotes = FALSE  # the default is TRUE\n",
    "#  Well, I'd want to use it if I could figure out\n",
    "#+ what it is."
   ]
  },
  {
   "cell_type": "code",
   "execution_count": null,
   "metadata": {
    "colab": {
     "base_uri": "https://localhost:8080/",
     "height": 54
    },
    "id": "rHz-hlk-ijeS",
    "outputId": "9401525e-e8f4-4caa-edc2-f2971b10fbdf"
   },
   "outputs": [],
   "source": [
    "#??useFancyQuotes  # This doesn't come up on the right!"
   ]
  },
  {
   "cell_type": "markdown",
   "metadata": {
    "id": "4miwSCpshsRm"
   },
   "source": [
    "It seems that might be an argument for the `help()` function."
   ]
  },
  {
   "cell_type": "code",
   "execution_count": null,
   "metadata": {
    "id": "jXWNA23JilGa"
   },
   "outputs": [],
   "source": [
    "#help(lapply)  #  The docs always show up off to the right\n",
    "#              #+ I wish I could get it to be the output"
   ]
  },
  {
   "cell_type": "markdown",
   "metadata": {
    "id": "EIj8SNe_yDBn"
   },
   "source": [
    "Nope - not an argument. Trying the code,\n",
    "\n",
    "`help(lapply, useFancyQuotes=FALSE)`\n",
    "\n",
    "throws an error."
   ]
  },
  {
   "cell_type": "code",
   "execution_count": null,
   "metadata": {
    "id": "_JA3PDiRiy2g"
   },
   "outputs": [],
   "source": [
    "#?\"for\"  # still opens to the right"
   ]
  },
  {
   "cell_type": "code",
   "execution_count": null,
   "metadata": {
    "colab": {
     "base_uri": "https://localhost:8080/"
    },
    "id": "24HXeN1ijxKm",
    "outputId": "e9b208ea-f60d-4550-9ae4-cade6fbbafba"
   },
   "outputs": [],
   "source": [
    "print(\"\bC_\bo_\bn_\bt_\br_\bo_\bl _\bF_\bl_\bo_\bw\")\n",
    "  #  I think that it's supposed to do cool moving text\n",
    "  #+ It fails here in Jupyter R"
   ]
  },
  {
   "cell_type": "markdown",
   "metadata": {
    "id": "Q4hTPYfypdT7"
   },
   "source": [
    "Some more stuff that looks fun from the help."
   ]
  },
  {
   "cell_type": "code",
   "execution_count": null,
   "metadata": {
    "id": "1dcwj9TWpg8h"
   },
   "outputs": [],
   "source": [
    "#help()  #  To get the fun examples (They look fun; I hope they are.)"
   ]
  },
  {
   "cell_type": "code",
   "execution_count": null,
   "metadata": {
    "id": "CswKF46FpoMX"
   },
   "outputs": [],
   "source": [
    "#help(package = \"splines\") # get help even when package is not loaded"
   ]
  },
  {
   "cell_type": "markdown",
   "metadata": {
    "id": "ThpPnLGgp6ZR"
   },
   "source": [
    "```\n",
    "Documentation for package ‘splines’\n",
    "\n",
    "\n",
    "\t\tInformation on package ‘splines’\n",
    "\n",
    "Description:\n",
    "\n",
    "Package:            splines\n",
    "Version:            4.4.1\n",
    "Priority:           base\n",
    "Imports:            graphics, stats\n",
    "Title:              Regression Spline Functions and Classes\n",
    "Author:             Douglas M. Bates <bates@stat.wisc.edu> and William\n",
    "                    N. Venables <Bill.Venables@csiro.au>\n",
    "Maintainer:         R Core Team <do-use-Contact-address@r-project.org>\n",
    "Contact:            R-help mailing list <r-help@r-project.org>\n",
    "Description:        Regression spline functions and classes.\n",
    "\n",
    "...\n",
    "\n",
    "Index:\n",
    "\n",
    "asVector                Coerce an Object to a Vector\n",
    "backSpline              Monotone Inverse Spline\n",
    "bs                      B-Spline Basis for Polynomial Splines\n",
    "interpSpline            Create an Interpolation Spline\n",
    "ns                      Generate a Basis Matrix for Natural Cubic\n",
    "                        Splines\n",
    "periodicSpline          Create a Periodic Interpolation Spline\n",
    "\n",
    "...\n",
    "\n",
    "```"
   ]
  },
  {
   "cell_type": "code",
   "execution_count": null,
   "metadata": {
    "id": "0wnqCzRKqhTn"
   },
   "outputs": [],
   "source": [
    "#topi <- \"women\"\n",
    "#help(topi)"
   ]
  },
  {
   "cell_type": "markdown",
   "metadata": {
    "id": "e4Lzo4B7qik_"
   },
   "source": [
    "```\n",
    "women                 package:datasets                 R Documentation\n",
    "\n",
    "Average Heights and Weights for American Women\n",
    "\n",
    "Description:\n",
    "\n",
    "     This data set gives the average heights and weights for American\n",
    "     women aged 30-39.\n",
    "\n",
    "Usage:\n",
    "\n",
    "     women\n",
    "     \n",
    "Format:\n",
    "\n",
    "     A data frame with 15 observations on 2 variables.\n",
    "\n",
    "       ‘[,1]’  ‘height’  numeric  Height (in)  \n",
    "       ‘[,2]’  ‘weight’  numeric  Weight (lbs)\n",
    "      \n",
    "Details:\n",
    "\n",
    "     The data set appears to have been taken from the American Society\n",
    "     of Actuaries _Build and Blood Pressure Study_ for some (unknown to\n",
    "     us) earlier year.\n",
    "\n",
    "     The World Almanac notes: “The figures represent weights in\n",
    "     ordinary indoor clothing and shoes, and heights with shoes”.\n",
    "\n",
    "Source:\n",
    "\n",
    "     The World Almanac and Book of Facts, 1975.\n",
    "\n",
    "References:\n",
    "\n",
    "     McNeil, D. R. (1977) _Interactive Data Analysis_.  Wiley.\n",
    "\n",
    "Examples:\n",
    "\n",
    "     require(graphics)\n",
    "     plot(women, xlab = \"Height (in)\", ylab = \"Weight (lb)\",\n",
    "          main = \"women data: American women aged 30-39\")\n",
    "```\n",
    "\n",
    "I want to try that plot later, after I've done another, first, basic histogram plot."
   ]
  },
  {
   "cell_type": "markdown",
   "metadata": {
    "id": "gKvlCFoWsR_a"
   },
   "source": [
    "Ooh, catching an error! That could have been useful, earlier."
   ]
  },
  {
   "cell_type": "code",
   "execution_count": null,
   "metadata": {
    "id": "7GZpyA-AsWGD"
   },
   "outputs": [],
   "source": [
    "#try(help(\"bs\", try.all.packages = FALSE))\n",
    "#    # reports not found (an error)"
   ]
  },
  {
   "cell_type": "markdown",
   "metadata": {
    "id": "yLmE-aFTsgnz"
   },
   "source": [
    "Output (brought from that stupid window to the right)\n",
    "\n",
    "```\n",
    "No documentation for ‘bs’ in specified packages and libraries:\n",
    "you could try ‘??bs’\n",
    "```"
   ]
  },
  {
   "cell_type": "code",
   "execution_count": null,
   "metadata": {
    "id": "wx6Oc8oAsexo"
   },
   "outputs": [],
   "source": [
    "#help(\"bs\", try.all.packages = TRUE)\n",
    "#    # reports can be found\n",
    "#    # in package 'splines'"
   ]
  },
  {
   "cell_type": "markdown",
   "metadata": {
    "id": "8Ppfq31Hs5PO"
   },
   "source": [
    "Output: A bunch of nice data, and a good example that\n",
    "I can try after my first histogram and the other women\n",
    "plot.\n",
    "\n",
    "```\n",
    "Examples:\n",
    "\n",
    "     require(stats); require(graphics)\n",
    "     bs(women$height, df = 5)\n",
    "     summary(fm1 <- lm(weight ~ bs(height, df = 5), data = women))\n",
    "     \n",
    "     ## example of safe prediction\n",
    "     plot(women, xlab = \"Height (in)\", ylab = \"Weight (lb)\")\n",
    "     ht <- seq(57, 73, length.out = 200)\n",
    "     lines(ht, predict(fm1, data.frame(height = ht)))\n",
    "```"
   ]
  },
  {
   "cell_type": "markdown",
   "metadata": {
    "id": "9V2w31ow2LTD"
   },
   "source": [
    "And, for kicks and giggles,"
   ]
  },
  {
   "cell_type": "code",
   "execution_count": null,
   "metadata": {
    "id": "qlLEq1IU2MJv"
   },
   "outputs": [],
   "source": [
    "#??bs"
   ]
  },
  {
   "cell_type": "markdown",
   "metadata": {
    "id": "OH3b-Emk2Ooe"
   },
   "source": [
    "Output\n",
    "\n",
    "(I've added the line numbers, oh, and I've also\n",
    "done the search\n",
    "for anything with \"spline\" in it)\n",
    "\n",
    "```\n",
    "1    R Information\n",
    "2\n",
    "3    Vignettes with name or keyword or title matching ‘bs’ using regular\n",
    "4    expression matching:\n",
    "5    \n",
    "6    \n",
    "7    data.table::`datatable-keys-fast-subset`\n",
    "8                            Keys and fast binary search based subset\n",
    "9    dplyr::`two-table`      Two-table verbs\n",
    "10    grid::frame             Frames and packing grobs\n",
    "11   grid::grobs             Working with grid grobs\n",
    "12   grid::sharing           Modifying multiple grobs simultaneously\n",
    "13   \n",
    "14   \n",
    "15   Type 'vignette(PKG::FOO)' to inspect entries 'PKG::FOO'.\n",
    "16   \n",
    "17   \n",
    "18   \n",
    "19   Demos with name or title matching ‘bs’ using regular expression\n",
    "20   matching:\n",
    "21   \n",
    "22   \n",
    "23   httpuv::`json-server`   JSON API endpoint server using WebSockets\n",
    "24   httpuv::echo            Simple echo server demonstrating WebSockets\n",
    "25   stats::lm.glm           Some linear and generalized linear modelling\n",
    "26                           examples from `An Introduction to Statistical\n",
    "27                           Modelling' by Annette Dobson\n",
    "28   \n",
    "29   \n",
    "30   Type 'demo(PKG::FOO)' to run demonstration 'PKG::FOO'.\n",
    "31   \n",
    "32    \n",
    "33   \n",
    "34   Help files with alias or concept or title matching ‘bs’ using regular\n",
    "35   expression matching:\n",
    "36   \n",
    "37   \n",
    "38   base::.Library          Search Paths for Packages\n",
    "39     Aliases: R_LIBS, R_LIBS_SITE, R_LIBS_USER\n",
    "40   base::.subset           Internal Objects in Package 'base'\n",
    "41     Aliases: .subset, .subset2, .expand_R_libs_env_var\n",
    "\n",
    "...\n",
    "\n",
    "265  MASS::quine             Absenteeism from School in Rural New South\n",
    "266                          Wales\n",
    "267  Matrix::`subassign-methods`\n",
    "268                          Methods for \"[<-\" - Assigning to Subsets for\n",
    "269                          'Matrix'\n",
    "270  Matrix::`subscript-methods`\n",
    "271                          Methods for \"[\": Extraction or Subsetting in\n",
    "272                          Package 'Matrix'\n",
    "273    Aliases: subscript-methods\n",
    "274  Matrix::abIndex-class   Class \"abIndex\" of Abstract Index Vectors\n",
    "275  Matrix::abIseq          Sequence Generation of \"abIndex\", Abstract\n",
    "276                          Index Vectors\n",
    "277  methods::asMethodDefinition\n",
    "278                          Method Utilities\n",
    "279    Aliases: substituteFunctionArgs\n",
    "280  methods::substituteDirect\n",
    "281                          'SubstituteDirect'\n",
    "282    Aliases: substituteDirect\n",
    "282  mgcv::jagam             Just Another Gibbs Additive Modeller: JAGS\n",
    "283                          support for mgcv.\n",
    "284  mgcv::smooth.construct.bs.smooth.spec\n",
    "285                          Penalized B-splines in GAMs\n",
    "286    Aliases: smooth.construct.bs.smooth.spec,\n",
    "287      Predict.matrix.Bspline.smooth\n",
    "288  mgcv::uniquecombs       find the unique rows in a matrix\n",
    "289    Aliases: uniquecombs\n",
    "290  miniUI::miniTabPanel    Create a tabstrip panel\n",
    "291    Aliases: miniTabstripPanel\n",
    "\n",
    "...\n",
    "\n",
    "385  shiny::observeEvent     Event handler\n",
    "386    Aliases: observeEvent\n",
    "387  shiny::tabsetPanel      Create a tabset panel\n",
    "388    Aliases: tabsetPanel\n",
    "389  shiny::updateTabsetPanel\n",
    "390                          Change the selected tab on the client\n",
    "391    Aliases: updateTabsetPanel\n",
    "392  splines::bs             B-Spline Basis for Polynomial Splines\n",
    "393    Aliases: bs\n",
    "394  splines::predict.bs     Evaluate a Spline Basis\n",
    "395    Aliases: predict.bs\n",
    "396  splines::predict.bSpline\n",
    "397                          Evaluate a Spline at New Values of x\n",
    "398    Aliases: predict.bSpline, predict.nbSpline, predict.pbSpline\n",
    "399  stats::aggregate        Compute Summary Statistics of Data Subsets\n",
    "400  stats::dendrogram       General Tree Structures\n",
    "401    Aliases: nobs.dendrogram\n",
    "402  stats::mad              Median Absolute Deviation\n",
    "403  stats::monthplot        Plot a Seasonal or other Subseries from a Time\n",
    "404                          Series\n",
    "\n",
    "...\n",
    "\n",
    "458  Type '?PKG::FOO' to inspect entries 'PKG::FOO', or 'TYPE?PKG::FOO' for\n",
    "459  entries like 'PKG::FOO-TYPE'.\n",
    "```"
   ]
  },
  {
   "cell_type": "markdown",
   "metadata": {
    "id": "pFlepeljT3DL"
   },
   "source": [
    "### Learning By Using the Help"
   ]
  },
  {
   "cell_type": "code",
   "execution_count": null,
   "metadata": {
    "id": "L687cgEsim2e"
   },
   "outputs": [],
   "source": [
    "#?`for`  # still opens to the right, but here are some important parts"
   ]
  },
  {
   "cell_type": "markdown",
   "metadata": {
    "id": "zXi4p_ZGT6Mk"
   },
   "source": [
    "#### if, for from help"
   ]
  },
  {
   "cell_type": "markdown",
   "metadata": {
    "id": "gi8tYSbZjcgt"
   },
   "source": [
    "```\n",
    "Control     package:base     R Documentation\n",
    "\n",
    "...\n",
    "\n",
    "Usage:\n",
    "\n",
    "     if(cond) expr\n",
    "     if(cond) cons.expr  else  alt.expr\n",
    "     \n",
    "     for(var in seq) expr\n",
    "     while(cond) expr\n",
    "     repeat expr\n",
    "     break\n",
    "     next\n",
    "     \n",
    "     x %||% y\n",
    "\n",
    "...\n",
    "\n",
    "Value:\n",
    "\n",
    "    ‘if’ returns the value of the expression evaluated, or ‘NULL’\n",
    "     invisibly if none was (which may happen if there is no ‘else’).\n",
    "\n",
    "     ‘for’, ‘while’ and ‘repeat’ return ‘NULL’ invisibly.  ‘for’ sets\n",
    "     ‘var’ to the last used element of ‘seq’, or to ‘NULL’ if it was of\n",
    "     length zero.\n",
    "\n",
    "     ‘break’ and ‘next’ do not return a value as they transfer control\n",
    "     within the loop.\n",
    "\n",
    "...\n",
    "\n",
    "Examples:\n",
    "\n",
    "     for(i in 1:5) print(1:i)\n",
    "     for(n in c(2,5,10,20,50)) {\n",
    "        x <- stats::rnorm(n)\n",
    "        cat(n, \": \", sum(x^2), \"\\n\", sep = \"\")\n",
    "     }\n",
    "     f <- factor(sample(letters[1:5], 10, replace = TRUE))\n",
    "     for(i in unique(f)) print(i)\n",
    "     \n",
    "     res <- {}\n",
    "     res %||% \"alternative result\"\n",
    "     x <- head(x) %||% stop(\"parsed, but *not* evaluated..\")\n",
    "     \n",
    "     res <- if(sum(x) > 7.5) mean(x) # may be NULL\n",
    "     res %||% \"sum(x) <= 7.5\"\n",
    "    \n",
    "```"
   ]
  },
  {
   "cell_type": "code",
   "execution_count": null,
   "metadata": {
    "colab": {
     "base_uri": "https://localhost:8080/"
    },
    "id": "x-m3OLh1UM6y",
    "outputId": "db68b61f-8924-4cd5-fe4e-91fc2b0f2db3"
   },
   "outputs": [],
   "source": [
    "if(5 > 3)\n",
    "{\n",
    "    print(\"This should print.\")\n",
    "} else  # note same-line requirement for '{', 'else'\n",
    "{\n",
    "    print(\"This should not print.\")\n",
    "}"
   ]
  },
  {
   "cell_type": "code",
   "execution_count": null,
   "metadata": {
    "colab": {
     "base_uri": "https://localhost:8080/",
     "height": 435
    },
    "id": "6wikx1qzU8qa",
    "outputId": "2b07a9f2-a2da-4451-dbd5-efdf0bb5c4d1"
   },
   "outputs": [],
   "source": [
    "f <- factor(sample(letters[1:5],\n",
    "                   10,\n",
    "                   replace=TRUE))\n",
    "f\n",
    "\n",
    "print(\"\")\n",
    "print(\"---\")\n",
    "print(\"\")\n",
    "\n",
    "for (i in f) print(i)\n",
    "\n",
    "print(\"\")\n",
    "print(\"---\")\n",
    "print(\"\")\n",
    "\n",
    "for(i in unique(f))\n",
    "{\n",
    "    print(i)\n",
    "}"
   ]
  },
  {
   "cell_type": "code",
   "execution_count": null,
   "metadata": {
    "colab": {
     "base_uri": "https://localhost:8080/",
     "height": 34
    },
    "id": "aLgEkZPlWI9m",
    "outputId": "0773b867-ba14-419d-82cf-81a0c1cc7a5d"
   },
   "outputs": [],
   "source": [
    "# The `res` threw an error for Dave's Windows Machine\n",
    "\n",
    "#x = c(3, 2)\n",
    "#\n",
    "#res <- if(sum(x) > 7.5) mean(x) # may be NULL\n",
    "#res %||% \"sum(x) <= 7.5\""
   ]
  },
  {
   "cell_type": "markdown",
   "metadata": {},
   "source": [
    "The error was:\n",
    "\n",
    "```\n",
    "Error in res %||% \"sum(x) <= 7.5\": could not find function \"%||%\"\n",
    "Traceback:\n",
    "```"
   ]
  },
  {
   "cell_type": "code",
   "execution_count": null,
   "metadata": {
    "colab": {
     "base_uri": "https://localhost:8080/",
     "height": 34
    },
    "id": "BZyWJchtXOzf",
    "outputId": "437f2bc2-d8f9-477e-fa21-80924ebec29a"
   },
   "outputs": [],
   "source": [
    "#x = c(3, 2, 8)\n",
    "#res <- if(sum(x) > 7.5) mean(x) # may be NULL\n",
    "#res %||% \"sum(x) <= 7.5\""
   ]
  },
  {
   "cell_type": "code",
   "execution_count": null,
   "metadata": {
    "colab": {
     "base_uri": "https://localhost:8080/",
     "height": 34
    },
    "id": "jJMDt2KeXOuB",
    "outputId": "a96fbdc6-7f9c-4248-c027-1d53bef3a2ae"
   },
   "outputs": [],
   "source": [
    "#(3 + 2 + 8) / 3.0"
   ]
  },
  {
   "cell_type": "code",
   "execution_count": null,
   "metadata": {
    "colab": {
     "base_uri": "https://localhost:8080/",
     "height": 34
    },
    "id": "GE6kO1PLXOqG",
    "outputId": "8fb8b14f-51e2-49b9-8ab6-3585dc718d38"
   },
   "outputs": [],
   "source": [
    "#x = c()\n",
    "#res <- if(sum(x) > 7.5) mean(x) # may be NULL\n",
    "#res %||% \"sum(x) <= 7.5\""
   ]
  },
  {
   "cell_type": "code",
   "execution_count": null,
   "metadata": {
    "colab": {
     "base_uri": "https://localhost:8080/"
    },
    "id": "fJO1gMI8XOke",
    "outputId": "8429fcb5-f198-407e-91d3-62fa9bfc98b8"
   },
   "outputs": [],
   "source": [
    "#x = c(3, 2, 8)\n",
    "\n",
    "#  Will not throw an error for the input above\n",
    "#+   Unless it's run on Dave's Windows Machine\n",
    "#x <- head(x) %||% stop(\"parsed, but *not* evaluated..\")\n",
    "#print(x)"
   ]
  },
  {
   "cell_type": "markdown",
   "metadata": {
    "id": "1TfBKEnoYCMP"
   },
   "source": [
    "The boolean in the next cell is <em>only</em> for its own cell of code. If you pass in a value of `TRUE`, then execution of the rest of the notebook <b>will not occur!</b>"
   ]
  },
  {
   "cell_type": "code",
   "execution_count": null,
   "metadata": {
    "id": "Aou3F1M0XvjV"
   },
   "outputs": [],
   "source": [
    "#do_see_error = FALSE\n",
    "#\n",
    "#x = c()\n",
    "#\n",
    "# This won't throw an error, even on Dave's Windows Machine,\n",
    "#+ but I'm commenting it out, anyway\n",
    "#\n",
    "#if (do_see_error)\n",
    "#{\n",
    "#    #  Will throw an error for the input above\n",
    "#    x <- head(x) %||% stop(\"parsed, but *not* evaluated..\")\n",
    "#}"
   ]
  },
  {
   "cell_type": "markdown",
   "metadata": {
    "id": "0sEk1OnBZNTc"
   },
   "source": [
    "Here is what the output would have been if `do_see_error = TRUE`.\n",
    "(The idea is for you to leave `do_see_error = False`, by the way.)\n",
    "\n",
    "Output:\n",
    "\n",
    "```\n",
    "Error in head(x) %||% stop(\"parsed, but *not* evaluated..\"): parsed, but *not* evaluated..\n",
    "Traceback:\n",
    "\n",
    "1. head(x) %||% stop(\"parsed, but *not* evaluated..\")   # at line 8 of file <text>\n",
    "2. stop(\"parsed, but *not* evaluated..\")\n",
    "```"
   ]
  },
  {
   "cell_type": "markdown",
   "metadata": {
    "id": "bGD7i_3SUAnW"
   },
   "source": [
    "#### lapply from help - Getting to Some Statistics and Plots"
   ]
  },
  {
   "cell_type": "code",
   "execution_count": null,
   "metadata": {
    "id": "MfSvu9cljKfV"
   },
   "outputs": [],
   "source": [
    "#?\"lapply\""
   ]
  },
  {
   "cell_type": "markdown",
   "metadata": {
    "id": "AkN0FSx7YEXC"
   },
   "source": [
    "Apply a Function over a List or Vector\n",
    "\n",
    "Description:\n",
    "\n",
    "     ‘lapply’ returns a list of the same length as ‘X’, each element of\n",
    "     which is the result of applying ‘FUN’ to the corresponding element\n",
    "     of ‘X’.\n",
    "\n",
    "     ‘sapply’ is a user-friendly version and wrapper of ‘lapply’ by\n",
    "     default returning a vector, matrix or, if ‘simplify = \"array\"’, an\n",
    "     array if appropriate, by applying ‘simplify2array()’.  ‘sapply(x,\n",
    "     f, simplify = FALSE, USE.NAMES = FALSE)’ is the same as ‘lapply(x,\n",
    "     f)’.\n",
    "\n",
    "     ‘vapply’ is similar to ‘sapply’, but has a pre-specified type of\n",
    "     return value, so it can be safer (and sometimes faster) to use.\n",
    "\n",
    "     ‘replicate’ is a wrapper for the common use of ‘sapply’ for\n",
    "     repeated evaluation of an expression (which will usually involve\n",
    "     random number generation).\n",
    "\n",
    "     ‘simplify2array()’ is the utility called from ‘sapply()’ when\n",
    "     ‘simplify’ is not false and is similarly called from ‘mapply()’.\n",
    "\n",
    "Usage:\n",
    "\n",
    "     lapply(X, FUN, ...)\n",
    "     \n",
    "     sapply(X, FUN, ..., simplify = TRUE, USE.NAMES = TRUE)\n",
    "     \n",
    "     vapply(X, FUN, FUN.VALUE, ..., USE.NAMES = TRUE)\n",
    "     \n",
    "     replicate(n, expr, simplify = \"array\")\n",
    "     \n",
    "     simplify2array(x, higher = TRUE, except = c(0L, 1L))\n",
    "\n",
    "Examples:\n",
    "\n",
    "     require(stats); require(graphics)\n",
    "     \n",
    "     x <- list(a = 1:10, beta = exp(-3:3), logic = c(TRUE,FALSE,FALSE,TRUE))\n",
    "     # compute the list mean for each list element\n",
    "     lapply(x, mean)\n",
    "     # median and quartiles for each list element\n",
    "     lapply(x, quantile, probs = 1:3/4)\n",
    "     sapply(x, quantile)\n",
    "     i39 <- sapply(3:9, seq) # list of vectors\n",
    "     sapply(i39, fivenum)\n",
    "     vapply(i39, fivenum,\n",
    "            c(Min. = 0, \"1st Qu.\" = 0, Median = 0, \"3rd Qu.\" = 0, Max. = 0))\n",
    "     \n",
    "     ## sapply(*, \"array\") -- artificial example\n",
    "     (v <- structure(10*(5:8), names = LETTERS[1:4]))\n",
    "     f2 <- function(x, y) outer(rep(x, length.out = 3), y)\n",
    "     (a2 <- sapply(v, f2, y = 2*(1:5), simplify = \"array\"))\n",
    "     a.2 <- vapply(v, f2, outer(1:3, 1:5), y = 2*(1:5))\n",
    "     stopifnot(dim(a2) == c(3,5,4), all.equal(a2, a.2),\n",
    "               identical(dimnames(a2), list(NULL,NULL,LETTERS[1:4])))\n",
    "     \n",
    "     hist(replicate(100, mean(rexp(10))))\n",
    "     \n",
    "     ## use of replicate() with parameters:\n",
    "     foo <- function(x = 1, y = 2) c(x, y)\n",
    "     # does not work: bar <- function(n, ...) replicate(n, foo(...))\n",
    "     bar <- function(n, x) replicate(n, foo(x = x))\n",
    "     bar(5, x = 3)\n",
    "```"
   ]
  },
  {
   "cell_type": "code",
   "execution_count": null,
   "metadata": {
    "colab": {
     "base_uri": "https://localhost:8080/",
     "height": 561
    },
    "id": "HOcbfWqmX8TZ",
    "outputId": "ba864b3f-4539-4e95-f5aa-36225f1301da"
   },
   "outputs": [],
   "source": [
    "require(stats)\n",
    "\n",
    "x <- list(a = 1:10,\n",
    "          beta = exp(-3:3),\n",
    "          logic=c(TRUE,FALSE,FALSE,TRUE))\n",
    "\n",
    "# compute the list mean for each list element\n",
    "lapply(x, mean)\n",
    "\n",
    "print(\"\")\n",
    "print(\"----------\")\n",
    "print(\"\")\n",
    "\n",
    "# median and quartiles for each list element\n",
    "lapply(x, quantile, probs=1:3/4)\n",
    "print(\"---\")\n",
    "sapply(x, quantile)"
   ]
  },
  {
   "cell_type": "code",
   "execution_count": null,
   "metadata": {
    "colab": {
     "base_uri": "https://localhost:8080/",
     "height": 402
    },
    "id": "DcJQlYVeaxvI",
    "outputId": "ab352183-d35d-4bb3-fb41-690ac88f2e7a"
   },
   "outputs": [],
   "source": [
    "require(stats)\n",
    "\n",
    "#  Let's look at this `fivenum` thing - probably\n",
    "#+ the important statistical measures\n",
    "i39 <- sapply(3:9, seq) # list of vectors\n",
    "print(\"---\")\n",
    "sapply(i39, fivenum)\n",
    "print(\"---\")\n",
    "vapply(i39, fivenum,\n",
    "        c(Min. = 0,\n",
    "          \"1st Qu.\" = 0,\n",
    "          Median = 0,\n",
    "          \"3rd Qu.\" = 0,\n",
    "          Max. = 0)\n",
    ")"
   ]
  },
  {
   "cell_type": "code",
   "execution_count": null,
   "metadata": {
    "colab": {
     "base_uri": "https://localhost:8080/",
     "height": 437
    },
    "id": "oyzIP2nzbrVJ",
    "outputId": "f08824a5-2aba-4c82-c8c2-aae36d1defec"
   },
   "outputs": [],
   "source": [
    "require(stats); require(graphics)\n",
    "\n",
    "hist(replicate(100, mean(rexp(10))))"
   ]
  },
  {
   "cell_type": "markdown",
   "metadata": {
    "id": "beIgUzRzgXfC"
   },
   "source": [
    "Okay, make sure I understand that. I need to know what `rexp` does."
   ]
  },
  {
   "cell_type": "code",
   "execution_count": null,
   "metadata": {
    "id": "C-sbCJGxgbxJ"
   },
   "outputs": [],
   "source": [
    "#?`rexp`"
   ]
  },
  {
   "cell_type": "markdown",
   "metadata": {
    "id": "SKsBaqcJglQO"
   },
   "source": [
    "```\n",
    "Exponential     package:stats     R Documentation\n",
    "\n",
    "The Exponential Distribution\n",
    "\n",
    "Description:\n",
    "\n",
    "     Density, distribution function, quantile function and random\n",
    "     generation for the exponential distribution with rate ‘rate’\n",
    "     (i.e., mean ‘1/rate’).\n",
    "\n",
    "Usage:\n",
    "\n",
    "     dexp(x, rate = 1, log = FALSE)\n",
    "     pexp(q, rate = 1, lower.tail = TRUE, log.p = FALSE)\n",
    "     qexp(p, rate = 1, lower.tail = TRUE, log.p = FALSE)\n",
    "     rexp(n, rate = 1)\n",
    "     \n",
    "Arguments:\n",
    "\n",
    "    x, q: vector of quantiles.\n",
    "\n",
    "       p: vector of probabilities.\n",
    "\n",
    "       n: number of observations. If ‘length(n) > 1’, the length is\n",
    "          taken to be the number required.\n",
    "\n",
    "    rate: vector of rates.\n",
    "\n",
    "log, log.p: logical; if TRUE, probabilities p are given as log(p).\n",
    "\n",
    "lower.tail: logical; if TRUE (default), probabilities are P[X <= x],\n",
    "          otherwise, P[X > x].\n",
    "\n",
    "...\n",
    "\n",
    "\n",
    "\n",
    "Value:\n",
    "\n",
    "     ‘dexp’ gives the density, ‘pexp’ gives the distribution function,\n",
    "     ‘qexp’ gives the quantile function, and ‘rexp’ generates random\n",
    "     deviates.\n",
    "\n",
    "     The length of the result is determined by ‘n’ for ‘rexp’, and is\n",
    "     the maximum of the lengths of the numerical arguments for the\n",
    "     other functions.\n",
    "\n",
    "     The numerical arguments other than ‘n’ are recycled to the length\n",
    "     of the result.  Only the first elements of the logical arguments\n",
    "     are used.\n",
    "\n",
    "```"
   ]
  },
  {
   "cell_type": "markdown",
   "metadata": {
    "id": "vZZ1hnakrhWs"
   },
   "source": [
    "#### Now, that plot from the help women results"
   ]
  },
  {
   "cell_type": "code",
   "execution_count": null,
   "metadata": {
    "colab": {
     "base_uri": "https://localhost:8080/",
     "height": 437
    },
    "id": "uBRdIQdxrpaL",
    "outputId": "713bacad-be45-4b32-fa04-ed715c577b12"
   },
   "outputs": [],
   "source": [
    "require(graphics)\n",
    "plot(women,\n",
    "     xlab = \"Height (in)\",\n",
    "     ylab = \"Weight (lb)\",\n",
    "     main = \"women data: American women aged 30-39\")"
   ]
  },
  {
   "cell_type": "code",
   "execution_count": null,
   "metadata": {
    "colab": {
     "base_uri": "https://localhost:8080/",
     "height": 1000
    },
    "id": "U34Oi1UctRbs",
    "outputId": "ac48003e-f6c2-41de-91ff-31aa090dc225"
   },
   "outputs": [],
   "source": [
    "\n",
    "require(stats); require(graphics); require(splines)\n",
    "bs(women$height, df = 5)\n",
    "summary(fm1 <- lm(weight ~ bs(height, df = 5), data = women))\n",
    "\n",
    "## example of safe prediction\n",
    "plot(women, xlab = \"Height (in)\", ylab = \"Weight (lb)\")\n",
    "ht <- seq(57, 73, length.out = 200)\n",
    "lines(ht, predict(fm1, data.frame(height = ht)))"
   ]
  },
  {
   "cell_type": "markdown",
   "metadata": {
    "id": "O5ukGxZimRBg"
   },
   "source": [
    "## Less-basic Basics - Some External Data and Some Plotting"
   ]
  },
  {
   "cell_type": "markdown",
   "metadata": {
    "id": "DlHJ1HILmgLw"
   },
   "source": [
    "The dataset is documented at\n",
    "\n",
    "https://cran.r-project.org/web/packages/babynames/index.html\n",
    "\n",
    "([archived](https://web.archive.org/web/20240910202350/https://cran.r-project.org/web/packages/babynames/index.html))\n",
    "\n",
    "Oh, it looks like I should use the \"cononical form\" to link,\n",
    "\n",
    "https://CRAN.R-project.org/package=babynames\n",
    "\n",
    "Here's what seems to be a description.\n",
    "\n",
    "> US baby names provided by the SSA. This package contains all names\n",
    "> used for at least 5 children of either sex.\n",
    "\n",
    "And here's a somewhat-expanded title that gives us the date range.\n",
    "\n",
    "> babynames: US Baby Names 1880-2017"
   ]
  },
  {
   "cell_type": "markdown",
   "metadata": {
    "id": "CF-GcQHvunK-"
   },
   "source": [
    "<b>Install</b>"
   ]
  },
  {
   "cell_type": "code",
   "execution_count": null,
   "metadata": {
    "colab": {
     "base_uri": "https://localhost:8080/"
    },
    "id": "GH0WAUGbmJgs",
    "outputId": "ce5525cf-7de6-47f1-c898-8a214c26f0a9"
   },
   "outputs": [],
   "source": [
    "install.packages(\"babynames\")"
   ]
  },
  {
   "cell_type": "markdown",
   "metadata": {},
   "source": [
    "_In Notebook_\n",
    "\n",
    "```\n",
    "Warning message:\n",
    "\"unable to access index for repository https://cran.r-project.org/bin/windows/contrib/3.6:\n",
    "  cannot open URL 'https://cran.r-project.org/bin/windows/contrib/3.6/PACKAGES'\"installing the source package 'babynames'\n",
    "```\n",
    "\n",
    "_In Anaconda Prompt where we started the Notebook_\n",
    "\n",
    "```\n",
    "trying URL 'https://cran.r-project.org/src/contrib/babynames_1.0.1.tar.gz'\n",
    "Content type 'application/x-gzip' length 5508752 bytes (5.3 MB)\n",
    "==================================================\n",
    "downloaded 5.3 MB\n",
    "\n",
    "* installing *source* package 'babynames' ...\n",
    "** package 'babynames' successfully unpacked and MD5 sums checked\n",
    "** using staged installation\n",
    "** R\n",
    "** data\n",
    "*** moving datasets to lazyload DB\n",
    "** byte-compile and prepare package for lazy loading\n",
    "** help\n",
    "*** installing help indices\n",
    "  converting help for package 'babynames'\n",
    "    finding HTML links ... done\n",
    "    applicants                              html\n",
    "    babynames                               html\n",
    "    births                                  html\n",
    "    lifetables                              html\n",
    "** building package indices\n",
    "** testing if installed package can be loaded from temporary location\n",
    "** testing if installed package can be loaded from final location\n",
    "** testing if installed package keeps a record of temporary installation path\n",
    "* DONE (babynames)\n",
    "\n",
    "The downloaded source packages are in\n",
    "        'C:\\Users\\Anast\\AppData\\Local\\Temp\\RtmpcLpmiW\\downloaded_packages'\n",
    "[I 2024-09-11 12:31:26.765 ServerApp] Saving file at /Learning_R.ipynb\n",
    "```"
   ]
  },
  {
   "cell_type": "markdown",
   "metadata": {
    "id": "ld409F18uqHc"
   },
   "source": [
    "<b>I'm guessing that this gets things prepared.</b>"
   ]
  },
  {
   "cell_type": "code",
   "execution_count": null,
   "metadata": {
    "id": "RqBShSasuGnk"
   },
   "outputs": [],
   "source": [
    "library(babynames)"
   ]
  },
  {
   "cell_type": "markdown",
   "metadata": {
    "id": "BKFU5brxuvHz"
   },
   "source": [
    "It seems that `str(&lt;dataset&gt;) gives something of a\n",
    "summary and the first few entries for each field."
   ]
  },
  {
   "cell_type": "code",
   "execution_count": null,
   "metadata": {
    "colab": {
     "base_uri": "https://localhost:8080/"
    },
    "id": "iF6yRPNUuLtG",
    "outputId": "8d39a01a-1222-453a-f3fc-6e107499f4a6"
   },
   "outputs": [],
   "source": [
    "str(babynames)"
   ]
  },
  {
   "cell_type": "markdown",
   "metadata": {
    "id": "YPR7e81LuQGO"
   },
   "source": [
    "Now for some fun with the data. We'll find out the popularity\n",
    "of the name, Bruno, over time"
   ]
  },
  {
   "cell_type": "code",
   "execution_count": null,
   "metadata": {
    "colab": {
     "base_uri": "https://localhost:8080/",
     "height": 437
    },
    "id": "bqwF1MQ5uMOv",
    "outputId": "198da7dd-cff2-45ab-854e-cc471334c51b"
   },
   "outputs": [],
   "source": [
    "#  I'm thinking the '_df' part is specifying it's a dataframe\n",
    "bruno_df <- babynames[babynames$name == \"Bruno\", ]\n",
    "\n",
    "plot( x=bruno_df$year,\n",
    "      y=bruno_df$n,\n",
    "      type=\"l\",\n",
    "      main=\"Popularity of the name, Bruno\")"
   ]
  },
  {
   "cell_type": "markdown",
   "metadata": {
    "id": "eOUD1syYvkun"
   },
   "source": [
    "## Hey Napoleon, that sounds like the end"
   ]
  },
  {
   "cell_type": "markdown",
   "metadata": {
    "id": "EUz6GGyQwD5h"
   },
   "source": [
    "Source: Aristrocats, from Disney, some year, speaker is the dog, Lafayette\n",
    "\n",
    "It's followed by,\n",
    "\n",
    "Napoleon the dog:\n",
    "\n",
    "> I'm the leader, I'll say when it's the end ...\n",
    "\n",
    "With that Bruno plot, I feel like I've got a decent handle on some basic R. That will probably be it until I get to a LinkedIn course or something like that. Maybe\n",
    "\n",
    "https://www.linkedin.com/learning/complete-your-first-project-in-r/\n",
    "\n",
    "or\n",
    "\n",
    "https://www.linkedin.com/learning/r-for-data-science-analysis-and-visualization\n",
    "\n",
    "or\n",
    "\n",
    "https://www.linkedin.com/learning/nlp-with-quanteda-r/welcome-to-natural-language-processing-with-r\n",
    "\n",
    "or\n",
    "\n",
    "https://www.linkedin.com/learning/ai-show-using-r-in-azure-machine-learning"
   ]
  },
  {
   "cell_type": "markdown",
   "metadata": {
    "id": "Or13nrqYw3IA"
   },
   "source": [
    "### It's the end - Napoleon (the dog)"
   ]
  },
  {
   "cell_type": "markdown",
   "metadata": {
    "id": "OG-CNdPbcVDZ"
   },
   "source": [
    "## Repeatibility Stuff"
   ]
  },
  {
   "cell_type": "markdown",
   "metadata": {
    "id": "A4VzROjwcIy_"
   },
   "source": [
    "Here comes the information on the date and the version of R\n",
    "with which we got all of this to work."
   ]
  },
  {
   "cell_type": "code",
   "execution_count": null,
   "metadata": {
    "colab": {
     "base_uri": "https://localhost:8080/",
     "height": 531
    },
    "id": "EmrBTvoQcJAd",
    "outputId": "92bd5ef3-74fa-4da9-f59c-21f8efceb419"
   },
   "outputs": [],
   "source": [
    "R.Version()"
   ]
  },
  {
   "cell_type": "markdown",
   "metadata": {
    "id": "q4S666VScfgX"
   },
   "source": [
    "#### With Dave's Windows Machine\n"
   ]
  },
  {
   "cell_type": "markdown",
   "metadata": {
    "id": "iOyK4WoncuIt"
   },
   "source": [
    "Output of `R.Version()`\n",
    "\n",
    "```\n",
    "Stuff\n",
    "```"
   ]
  },
  {
   "cell_type": "code",
   "execution_count": null,
   "metadata": {
    "id": "-R2rkuxicKI9"
   },
   "outputs": [],
   "source": [
    "# # Don't need this anymore.\n",
    "## Dave's Windows Machine\n",
    "#system(\"powershell -c (Get-Date -UFormat \\\"%s_%Y%m%dT%H%M%S%Z00\\\") -replace '[.][0-9]*_', '_'\",\n",
    "#       intern=TRUE)"
   ]
  },
  {
   "cell_type": "markdown",
   "metadata": {
    "id": "RH1mWPtOc7Ct"
   },
   "source": [
    "Output of the comand for the timestamp\n",
    "\n",
    "`'1726057828_20240911T123028-0600'`"
   ]
  },
  {
   "cell_type": "markdown",
   "metadata": {
    "id": "LR4r3CxEdEAq"
   },
   "source": [
    "#### With CoLab"
   ]
  },
  {
   "cell_type": "markdown",
   "metadata": {
    "id": "D5ELOPS5dEuE"
   },
   "source": [
    "Output of `R.Version()`\n",
    "\n",
    "```\n",
    "$platform\n",
    "'x86_64-pc-linux-gnu'\n",
    "$arch\n",
    "'x86_64'\n",
    "$os\n",
    "'linux-gnu'\n",
    "$system\n",
    "'x86_64, linux-gnu'\n",
    "$status\n",
    "''\n",
    "$major\n",
    "'4'\n",
    "$minor\n",
    "'4.1'\n",
    "$year\n",
    "'2024'\n",
    "$month\n",
    "'06'\n",
    "$day\n",
    "'14'\n",
    "$`svn rev`\n",
    "'86737'\n",
    "$language\n",
    "'R'\n",
    "$version.string\n",
    "'R version 4.4.1 (2024-06-14)'\n",
    "$nickname\n",
    "'Race for Your Life'\n",
    "```"
   ]
  },
  {
   "cell_type": "code",
   "execution_count": null,
   "metadata": {
    "colab": {
     "base_uri": "https://localhost:8080/",
     "height": 34
    },
    "id": "weNfAf4ZdLAl",
    "outputId": "0de4a3fa-bf8b-4043-c8e6-56209e864ff7"
   },
   "outputs": [],
   "source": [
    "# # Don't need this anymore\n",
    "## CoLab\n",
    "#system(\"date +'%s_%Y-%m-%dT%H%M%S%z'\", intern=TRUE)"
   ]
  },
  {
   "cell_type": "markdown",
   "metadata": {
    "id": "vZirK-JQdWN2"
   },
   "source": [
    "Output of the command for the timestamp\n",
    "\n",
    "`'1726003412_2024-09-10T212332+0000'`"
   ]
  },
  {
   "cell_type": "markdown",
   "metadata": {
    "id": "MJjUkv5odgVt"
   },
   "source": [
    "#### With MyBinder"
   ]
  },
  {
   "cell_type": "markdown",
   "metadata": {
    "id": "VjAmr02mdrXT"
   },
   "source": [
    "Output of `R.Version()`\n",
    "\n",
    "```\n",
    "Stuff\n",
    "```"
   ]
  },
  {
   "cell_type": "code",
   "execution_count": null,
   "metadata": {
    "id": "ZgfndXM9dsGF"
   },
   "outputs": [],
   "source": [
    "# # Don't need this anymore\n",
    "## MyBinder\n",
    "#system(\"date +'%s_%Y-%m-%dT%H%M%S%z'\", intern=TRUE)"
   ]
  },
  {
   "cell_type": "markdown",
   "metadata": {
    "id": "v9WVhN1Ldsrf"
   },
   "source": [
    "Output of the command for the timestamp\n",
    "\n",
    "`timestamp`"
   ]
  }
 ],
 "metadata": {
  "colab": {
   "authorship_tag": "ABX9TyNna2ru0tcwK61aV4zCSGZv",
   "include_colab_link": true,
   "provenance": []
  },
  "kernelspec": {
   "display_name": "R",
   "language": "R",
   "name": "ir"
  },
  "language_info": {
   "codemirror_mode": "r",
   "file_extension": ".r",
   "mimetype": "text/x-r-source",
   "name": "R",
   "pygments_lexer": "r",
   "version": "3.6.1"
  }
 },
 "nbformat": 4,
 "nbformat_minor": 4
}
